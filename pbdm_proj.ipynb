{
 "cells": [
  {
   "cell_type": "code",
   "execution_count": 1,
   "metadata": {
    "executionInfo": {
     "elapsed": 2582,
     "status": "ok",
     "timestamp": 1714666425855,
     "user": {
      "displayName": "Charitha Darapaneni",
      "userId": "11412777195678425930"
     },
     "user_tz": 300
    },
    "id": "d_FIJEe-E_5n"
   },
   "outputs": [],
   "source": [
    "import pandas as pd\n",
    "import numpy as np\n",
    "import matplotlib.pyplot as plt\n",
    "import seaborn as sns"
   ]
  },
  {
   "cell_type": "code",
   "execution_count": 2,
   "metadata": {
    "executionInfo": {
     "elapsed": 15419,
     "status": "ok",
     "timestamp": 1714666509503,
     "user": {
      "displayName": "Charitha Darapaneni",
      "userId": "11412777195678425930"
     },
     "user_tz": 300
    },
    "id": "Ja2bm92gFiow"
   },
   "outputs": [],
   "source": [
    "movies_df = pd.read_csv('movies.csv')\n",
    "ratings_df = pd.read_csv('ratings.csv')"
   ]
  },
  {
   "cell_type": "code",
   "execution_count": 3,
   "metadata": {
    "colab": {
     "base_uri": "https://localhost:8080/"
    },
    "executionInfo": {
     "elapsed": 182,
     "status": "ok",
     "timestamp": 1714667587994,
     "user": {
      "displayName": "Charitha Darapaneni",
      "userId": "11412777195678425930"
     },
     "user_tz": 300
    },
    "id": "xe08cCy6Juyf",
    "outputId": "8b9385be-0a2c-4baf-d080-8941177768bc"
   },
   "outputs": [
    {
     "data": {
      "text/plain": [
       "(27278, 3)"
      ]
     },
     "execution_count": 3,
     "metadata": {},
     "output_type": "execute_result"
    }
   ],
   "source": [
    "movies_df.shape"
   ]
  },
  {
   "cell_type": "markdown",
   "metadata": {},
   "source": [
    "### Data preprocessing"
   ]
  },
  {
   "cell_type": "markdown",
   "metadata": {},
   "source": [
    "Separating the year from the title"
   ]
  },
  {
   "cell_type": "code",
   "execution_count": 4,
   "metadata": {},
   "outputs": [
    {
     "data": {
      "text/html": [
       "<div>\n",
       "<style scoped>\n",
       "    .dataframe tbody tr th:only-of-type {\n",
       "        vertical-align: middle;\n",
       "    }\n",
       "\n",
       "    .dataframe tbody tr th {\n",
       "        vertical-align: top;\n",
       "    }\n",
       "\n",
       "    .dataframe thead th {\n",
       "        text-align: right;\n",
       "    }\n",
       "</style>\n",
       "<table border=\"1\" class=\"dataframe\">\n",
       "  <thead>\n",
       "    <tr style=\"text-align: right;\">\n",
       "      <th></th>\n",
       "      <th>movieId</th>\n",
       "      <th>title</th>\n",
       "      <th>genres</th>\n",
       "      <th>year</th>\n",
       "    </tr>\n",
       "  </thead>\n",
       "  <tbody>\n",
       "    <tr>\n",
       "      <th>23659</th>\n",
       "      <td>112538</td>\n",
       "      <td>Black Moon</td>\n",
       "      <td>Horror</td>\n",
       "      <td>1934</td>\n",
       "    </tr>\n",
       "    <tr>\n",
       "      <th>6623</th>\n",
       "      <td>6733</td>\n",
       "      <td>I'm Going Home (Je rentre à la maison)</td>\n",
       "      <td>Comedy|Drama</td>\n",
       "      <td>2001</td>\n",
       "    </tr>\n",
       "    <tr>\n",
       "      <th>8952</th>\n",
       "      <td>26613</td>\n",
       "      <td>Ashik Kerib</td>\n",
       "      <td>Drama|Romance</td>\n",
       "      <td>1988</td>\n",
       "    </tr>\n",
       "    <tr>\n",
       "      <th>13278</th>\n",
       "      <td>65045</td>\n",
       "      <td>Alien Raiders</td>\n",
       "      <td>Mystery|Sci-Fi|Thriller</td>\n",
       "      <td>2008</td>\n",
       "    </tr>\n",
       "    <tr>\n",
       "      <th>10945</th>\n",
       "      <td>44777</td>\n",
       "      <td>Evil Aliens</td>\n",
       "      <td>Comedy|Horror|Sci-Fi</td>\n",
       "      <td>2005</td>\n",
       "    </tr>\n",
       "  </tbody>\n",
       "</table>\n",
       "</div>"
      ],
      "text/plain": [
       "       movieId                                   title  \\\n",
       "23659   112538                              Black Moon   \n",
       "6623      6733  I'm Going Home (Je rentre à la maison)   \n",
       "8952     26613                             Ashik Kerib   \n",
       "13278    65045                           Alien Raiders   \n",
       "10945    44777                             Evil Aliens   \n",
       "\n",
       "                        genres  year  \n",
       "23659                   Horror  1934  \n",
       "6623              Comedy|Drama  2001  \n",
       "8952             Drama|Romance  1988  \n",
       "13278  Mystery|Sci-Fi|Thriller  2008  \n",
       "10945     Comedy|Horror|Sci-Fi  2005  "
      ]
     },
     "execution_count": 4,
     "metadata": {},
     "output_type": "execute_result"
    }
   ],
   "source": [
    "def rm_dates_from_title(df: pd.DataFrame):\n",
    "  df['year'] = df.title.str.extract(r'\\((\\d{4})\\)', expand=False)\n",
    "  df['title'] = df.title.str.replace(r'\\(\\d{4}\\)', '', regex=True)\n",
    "  df['title'] = df.title.apply(lambda x: x.strip())\n",
    "\n",
    "rm_dates_from_title(movies_df)\n",
    "movies_df.sample(5)"
   ]
  },
  {
   "cell_type": "markdown",
   "metadata": {},
   "source": [
    "Splitting the genre column by '|' and converting it into a list"
   ]
  },
  {
   "cell_type": "code",
   "execution_count": 5,
   "metadata": {},
   "outputs": [
    {
     "data": {
      "text/html": [
       "<div>\n",
       "<style scoped>\n",
       "    .dataframe tbody tr th:only-of-type {\n",
       "        vertical-align: middle;\n",
       "    }\n",
       "\n",
       "    .dataframe tbody tr th {\n",
       "        vertical-align: top;\n",
       "    }\n",
       "\n",
       "    .dataframe thead th {\n",
       "        text-align: right;\n",
       "    }\n",
       "</style>\n",
       "<table border=\"1\" class=\"dataframe\">\n",
       "  <thead>\n",
       "    <tr style=\"text-align: right;\">\n",
       "      <th></th>\n",
       "      <th>movieId</th>\n",
       "      <th>title</th>\n",
       "      <th>genres</th>\n",
       "      <th>year</th>\n",
       "    </tr>\n",
       "  </thead>\n",
       "  <tbody>\n",
       "    <tr>\n",
       "      <th>22724</th>\n",
       "      <td>108789</td>\n",
       "      <td>Beyond the Walls (Hors les murs)</td>\n",
       "      <td>[Drama]</td>\n",
       "      <td>2012</td>\n",
       "    </tr>\n",
       "    <tr>\n",
       "      <th>2171</th>\n",
       "      <td>2256</td>\n",
       "      <td>Parasite</td>\n",
       "      <td>[Horror, Sci-Fi]</td>\n",
       "      <td>1982</td>\n",
       "    </tr>\n",
       "    <tr>\n",
       "      <th>15155</th>\n",
       "      <td>77298</td>\n",
       "      <td>Hell (L'enfer)</td>\n",
       "      <td>[Drama]</td>\n",
       "      <td>2005</td>\n",
       "    </tr>\n",
       "    <tr>\n",
       "      <th>15917</th>\n",
       "      <td>80727</td>\n",
       "      <td>Middle Men</td>\n",
       "      <td>[Comedy, Crime, Drama]</td>\n",
       "      <td>2010</td>\n",
       "    </tr>\n",
       "    <tr>\n",
       "      <th>8468</th>\n",
       "      <td>25905</td>\n",
       "      <td>Miracle of Morgan's Creek, The</td>\n",
       "      <td>[Comedy, Romance]</td>\n",
       "      <td>1944</td>\n",
       "    </tr>\n",
       "  </tbody>\n",
       "</table>\n",
       "</div>"
      ],
      "text/plain": [
       "       movieId                             title                  genres  year\n",
       "22724   108789  Beyond the Walls (Hors les murs)                 [Drama]  2012\n",
       "2171      2256                          Parasite        [Horror, Sci-Fi]  1982\n",
       "15155    77298                    Hell (L'enfer)                 [Drama]  2005\n",
       "15917    80727                        Middle Men  [Comedy, Crime, Drama]  2010\n",
       "8468     25905    Miracle of Morgan's Creek, The       [Comedy, Romance]  1944"
      ]
     },
     "execution_count": 5,
     "metadata": {},
     "output_type": "execute_result"
    }
   ],
   "source": [
    "movies_df.genres = movies_df.genres.str.split('|')\n",
    "movies_df.sample(5)"
   ]
  },
  {
   "cell_type": "code",
   "execution_count": 6,
   "metadata": {
    "colab": {
     "base_uri": "https://localhost:8080/"
    },
    "executionInfo": {
     "elapsed": 170,
     "status": "ok",
     "timestamp": 1714669123541,
     "user": {
      "displayName": "Charitha Darapaneni",
      "userId": "11412777195678425930"
     },
     "user_tz": 300
    },
    "id": "xfnCjf5nPgPx",
    "outputId": "9266047f-a814-4d77-96f8-0334fc6252d9"
   },
   "outputs": [
    {
     "data": {
      "text/plain": [
       "118205    9254\n",
       "8405      7515\n",
       "82418     5646\n",
       "121535    5520\n",
       "125794    5491\n",
       "          ... \n",
       "89305       20\n",
       "110463      20\n",
       "96990       20\n",
       "134747      20\n",
       "6526        20\n",
       "Name: userId, Length: 138493, dtype: int64"
      ]
     },
     "execution_count": 6,
     "metadata": {},
     "output_type": "execute_result"
    }
   ],
   "source": [
    "ratings_df['userId'].value_counts()"
   ]
  },
  {
   "cell_type": "code",
   "execution_count": 7,
   "metadata": {
    "colab": {
     "base_uri": "https://localhost:8080/"
    },
    "executionInfo": {
     "elapsed": 480,
     "status": "ok",
     "timestamp": 1714669229144,
     "user": {
      "displayName": "Charitha Darapaneni",
      "userId": "11412777195678425930"
     },
     "user_tz": 300
    },
    "id": "JKHNI76BP7tj",
    "outputId": "de093fa5-df75-454e-a858-96cc3da61cae"
   },
   "outputs": [
    {
     "data": {
      "text/plain": [
       "(138493,)"
      ]
     },
     "execution_count": 7,
     "metadata": {},
     "output_type": "execute_result"
    }
   ],
   "source": [
    "ratings_df['userId'].unique().shape"
   ]
  },
  {
   "cell_type": "markdown",
   "metadata": {
    "id": "T0F0SEYbQVVt"
   },
   "source": [
    "removing users who rated less than 200 movies"
   ]
  },
  {
   "cell_type": "code",
   "execution_count": 8,
   "metadata": {
    "executionInfo": {
     "elapsed": 162,
     "status": "ok",
     "timestamp": 1714669271161,
     "user": {
      "displayName": "Charitha Darapaneni",
      "userId": "11412777195678425930"
     },
     "user_tz": 300
    },
    "id": "YFiS9E0zQCbI"
   },
   "outputs": [],
   "source": [
    "x = ratings_df['userId'].value_counts() > 200"
   ]
  },
  {
   "cell_type": "code",
   "execution_count": 9,
   "metadata": {
    "colab": {
     "base_uri": "https://localhost:8080/"
    },
    "executionInfo": {
     "elapsed": 160,
     "status": "ok",
     "timestamp": 1714669288447,
     "user": {
      "displayName": "Charitha Darapaneni",
      "userId": "11412777195678425930"
     },
     "user_tz": 300
    },
    "id": "eu-eCBW3QMJA",
    "outputId": "41b4f57b-84d9-47ae-b9fa-80459ccee84e"
   },
   "outputs": [
    {
     "data": {
      "text/plain": [
       "(26599,)"
      ]
     },
     "execution_count": 9,
     "metadata": {},
     "output_type": "execute_result"
    }
   ],
   "source": [
    "x[x].shape"
   ]
  },
  {
   "cell_type": "code",
   "execution_count": 10,
   "metadata": {
    "executionInfo": {
     "elapsed": 167,
     "status": "ok",
     "timestamp": 1714669344182,
     "user": {
      "displayName": "Charitha Darapaneni",
      "userId": "11412777195678425930"
     },
     "user_tz": 300
    },
    "id": "6VUq4unCQbKe"
   },
   "outputs": [],
   "source": [
    "y = x[x].index"
   ]
  },
  {
   "cell_type": "code",
   "execution_count": 11,
   "metadata": {
    "colab": {
     "base_uri": "https://localhost:8080/"
    },
    "executionInfo": {
     "elapsed": 534,
     "status": "ok",
     "timestamp": 1714669350688,
     "user": {
      "displayName": "Charitha Darapaneni",
      "userId": "11412777195678425930"
     },
     "user_tz": 300
    },
    "id": "rTfLYuxRQd5e",
    "outputId": "f55ea127-7a0c-4fe1-d466-2dc631ff2046"
   },
   "outputs": [
    {
     "data": {
      "text/plain": [
       "Int64Index([118205,   8405,  82418, 121535, 125794,  74142,  34576, 131904,\n",
       "             83090,  59477,\n",
       "            ...\n",
       "             43882,  73903,  19094,  66002, 133714,  43934,  12039,  34693,\n",
       "             43829, 112853],\n",
       "           dtype='int64', length=26599)"
      ]
     },
     "execution_count": 11,
     "metadata": {},
     "output_type": "execute_result"
    }
   ],
   "source": [
    "y"
   ]
  },
  {
   "cell_type": "code",
   "execution_count": 12,
   "metadata": {
    "executionInfo": {
     "elapsed": 749,
     "status": "ok",
     "timestamp": 1714669415586,
     "user": {
      "displayName": "Charitha Darapaneni",
      "userId": "11412777195678425930"
     },
     "user_tz": 300
    },
    "id": "FYugwC28Qhxj"
   },
   "outputs": [],
   "source": [
    "ratings_df = ratings_df[ratings_df['userId'].isin(y)]"
   ]
  },
  {
   "cell_type": "code",
   "execution_count": 13,
   "metadata": {
    "colab": {
     "base_uri": "https://localhost:8080/",
     "height": 206
    },
    "executionInfo": {
     "elapsed": 761,
     "status": "ok",
     "timestamp": 1714669427704,
     "user": {
      "displayName": "Charitha Darapaneni",
      "userId": "11412777195678425930"
     },
     "user_tz": 300
    },
    "id": "h5kfT22SQvwj",
    "outputId": "ae99ddda-0cf9-4cbe-f850-007ddfaebbd4"
   },
   "outputs": [
    {
     "data": {
      "text/html": [
       "<div>\n",
       "<style scoped>\n",
       "    .dataframe tbody tr th:only-of-type {\n",
       "        vertical-align: middle;\n",
       "    }\n",
       "\n",
       "    .dataframe tbody tr th {\n",
       "        vertical-align: top;\n",
       "    }\n",
       "\n",
       "    .dataframe thead th {\n",
       "        text-align: right;\n",
       "    }\n",
       "</style>\n",
       "<table border=\"1\" class=\"dataframe\">\n",
       "  <thead>\n",
       "    <tr style=\"text-align: right;\">\n",
       "      <th></th>\n",
       "      <th>userId</th>\n",
       "      <th>movieId</th>\n",
       "      <th>rating</th>\n",
       "      <th>timestamp</th>\n",
       "    </tr>\n",
       "  </thead>\n",
       "  <tbody>\n",
       "    <tr>\n",
       "      <th>541</th>\n",
       "      <td>7</td>\n",
       "      <td>3</td>\n",
       "      <td>3.0</td>\n",
       "      <td>1011208463</td>\n",
       "    </tr>\n",
       "    <tr>\n",
       "      <th>542</th>\n",
       "      <td>7</td>\n",
       "      <td>7</td>\n",
       "      <td>3.0</td>\n",
       "      <td>1011208220</td>\n",
       "    </tr>\n",
       "    <tr>\n",
       "      <th>543</th>\n",
       "      <td>7</td>\n",
       "      <td>11</td>\n",
       "      <td>4.0</td>\n",
       "      <td>1011207889</td>\n",
       "    </tr>\n",
       "    <tr>\n",
       "      <th>544</th>\n",
       "      <td>7</td>\n",
       "      <td>15</td>\n",
       "      <td>2.0</td>\n",
       "      <td>1011208732</td>\n",
       "    </tr>\n",
       "    <tr>\n",
       "      <th>545</th>\n",
       "      <td>7</td>\n",
       "      <td>16</td>\n",
       "      <td>3.0</td>\n",
       "      <td>1011205378</td>\n",
       "    </tr>\n",
       "  </tbody>\n",
       "</table>\n",
       "</div>"
      ],
      "text/plain": [
       "     userId  movieId  rating   timestamp\n",
       "541       7        3     3.0  1011208463\n",
       "542       7        7     3.0  1011208220\n",
       "543       7       11     4.0  1011207889\n",
       "544       7       15     2.0  1011208732\n",
       "545       7       16     3.0  1011205378"
      ]
     },
     "execution_count": 13,
     "metadata": {},
     "output_type": "execute_result"
    }
   ],
   "source": [
    "ratings_df.head()"
   ]
  },
  {
   "cell_type": "code",
   "execution_count": 14,
   "metadata": {
    "colab": {
     "base_uri": "https://localhost:8080/"
    },
    "executionInfo": {
     "elapsed": 168,
     "status": "ok",
     "timestamp": 1714669445784,
     "user": {
      "displayName": "Charitha Darapaneni",
      "userId": "11412777195678425930"
     },
     "user_tz": 300
    },
    "id": "dW2l5VSKQz8U",
    "outputId": "43925511-2c96-4b86-bb81-51542aef24ef"
   },
   "outputs": [
    {
     "data": {
      "text/plain": [
       "(12426476, 4)"
      ]
     },
     "execution_count": 14,
     "metadata": {},
     "output_type": "execute_result"
    }
   ],
   "source": [
    "ratings_df.shape"
   ]
  },
  {
   "cell_type": "code",
   "execution_count": 15,
   "metadata": {
    "executionInfo": {
     "elapsed": 1899,
     "status": "ok",
     "timestamp": 1714671163106,
     "user": {
      "displayName": "Charitha Darapaneni",
      "userId": "11412777195678425930"
     },
     "user_tz": 300
    },
    "id": "jzPVAFoLQ86T"
   },
   "outputs": [],
   "source": [
    "ratings_with_movies = ratings_df.merge(movies_df, on='movieId')"
   ]
  },
  {
   "cell_type": "code",
   "execution_count": 16,
   "metadata": {
    "colab": {
     "base_uri": "https://localhost:8080/",
     "height": 206
    },
    "executionInfo": {
     "elapsed": 184,
     "status": "ok",
     "timestamp": 1714671236314,
     "user": {
      "displayName": "Charitha Darapaneni",
      "userId": "11412777195678425930"
     },
     "user_tz": 300
    },
    "id": "B_e5aJiAXpS5",
    "outputId": "b0e15be6-1649-4e1b-f531-74eb7c30e7b0"
   },
   "outputs": [
    {
     "data": {
      "text/html": [
       "<div>\n",
       "<style scoped>\n",
       "    .dataframe tbody tr th:only-of-type {\n",
       "        vertical-align: middle;\n",
       "    }\n",
       "\n",
       "    .dataframe tbody tr th {\n",
       "        vertical-align: top;\n",
       "    }\n",
       "\n",
       "    .dataframe thead th {\n",
       "        text-align: right;\n",
       "    }\n",
       "</style>\n",
       "<table border=\"1\" class=\"dataframe\">\n",
       "  <thead>\n",
       "    <tr style=\"text-align: right;\">\n",
       "      <th></th>\n",
       "      <th>userId</th>\n",
       "      <th>movieId</th>\n",
       "      <th>rating</th>\n",
       "      <th>timestamp</th>\n",
       "      <th>title</th>\n",
       "      <th>genres</th>\n",
       "      <th>year</th>\n",
       "    </tr>\n",
       "  </thead>\n",
       "  <tbody>\n",
       "    <tr>\n",
       "      <th>0</th>\n",
       "      <td>7</td>\n",
       "      <td>3</td>\n",
       "      <td>3.0</td>\n",
       "      <td>1011208463</td>\n",
       "      <td>Grumpier Old Men</td>\n",
       "      <td>[Comedy, Romance]</td>\n",
       "      <td>1995</td>\n",
       "    </tr>\n",
       "    <tr>\n",
       "      <th>1</th>\n",
       "      <td>91</td>\n",
       "      <td>3</td>\n",
       "      <td>3.0</td>\n",
       "      <td>1111531392</td>\n",
       "      <td>Grumpier Old Men</td>\n",
       "      <td>[Comedy, Romance]</td>\n",
       "      <td>1995</td>\n",
       "    </tr>\n",
       "    <tr>\n",
       "      <th>2</th>\n",
       "      <td>96</td>\n",
       "      <td>3</td>\n",
       "      <td>4.0</td>\n",
       "      <td>1371089927</td>\n",
       "      <td>Grumpier Old Men</td>\n",
       "      <td>[Comedy, Romance]</td>\n",
       "      <td>1995</td>\n",
       "    </tr>\n",
       "    <tr>\n",
       "      <th>3</th>\n",
       "      <td>116</td>\n",
       "      <td>3</td>\n",
       "      <td>2.0</td>\n",
       "      <td>1132728058</td>\n",
       "      <td>Grumpier Old Men</td>\n",
       "      <td>[Comedy, Romance]</td>\n",
       "      <td>1995</td>\n",
       "    </tr>\n",
       "    <tr>\n",
       "      <th>4</th>\n",
       "      <td>156</td>\n",
       "      <td>3</td>\n",
       "      <td>2.0</td>\n",
       "      <td>1038801225</td>\n",
       "      <td>Grumpier Old Men</td>\n",
       "      <td>[Comedy, Romance]</td>\n",
       "      <td>1995</td>\n",
       "    </tr>\n",
       "  </tbody>\n",
       "</table>\n",
       "</div>"
      ],
      "text/plain": [
       "   userId  movieId  rating   timestamp             title             genres  \\\n",
       "0       7        3     3.0  1011208463  Grumpier Old Men  [Comedy, Romance]   \n",
       "1      91        3     3.0  1111531392  Grumpier Old Men  [Comedy, Romance]   \n",
       "2      96        3     4.0  1371089927  Grumpier Old Men  [Comedy, Romance]   \n",
       "3     116        3     2.0  1132728058  Grumpier Old Men  [Comedy, Romance]   \n",
       "4     156        3     2.0  1038801225  Grumpier Old Men  [Comedy, Romance]   \n",
       "\n",
       "   year  \n",
       "0  1995  \n",
       "1  1995  \n",
       "2  1995  \n",
       "3  1995  \n",
       "4  1995  "
      ]
     },
     "execution_count": 16,
     "metadata": {},
     "output_type": "execute_result"
    }
   ],
   "source": [
    "ratings_with_movies.head()"
   ]
  },
  {
   "cell_type": "code",
   "execution_count": 17,
   "metadata": {
    "colab": {
     "base_uri": "https://localhost:8080/"
    },
    "executionInfo": {
     "elapsed": 149,
     "status": "ok",
     "timestamp": 1714671317029,
     "user": {
      "displayName": "Charitha Darapaneni",
      "userId": "11412777195678425930"
     },
     "user_tz": 300
    },
    "id": "fhcHEdrEX8Mq",
    "outputId": "c7c17a3c-b081-41e6-d350-0bc04edd6095"
   },
   "outputs": [
    {
     "data": {
      "text/plain": [
       "(12426476, 7)"
      ]
     },
     "execution_count": 17,
     "metadata": {},
     "output_type": "execute_result"
    }
   ],
   "source": [
    "ratings_with_movies.shape"
   ]
  },
  {
   "cell_type": "code",
   "execution_count": 18,
   "metadata": {
    "executionInfo": {
     "elapsed": 306,
     "status": "ok",
     "timestamp": 1714671418570,
     "user": {
      "displayName": "Charitha Darapaneni",
      "userId": "11412777195678425930"
     },
     "user_tz": 300
    },
    "id": "TXcRw-_8YGC0"
   },
   "outputs": [],
   "source": [
    "num_rating = ratings_with_movies.groupby('title')['rating'].count().reset_index()"
   ]
  },
  {
   "cell_type": "code",
   "execution_count": 19,
   "metadata": {
    "colab": {
     "base_uri": "https://localhost:8080/",
     "height": 206
    },
    "executionInfo": {
     "elapsed": 239,
     "status": "ok",
     "timestamp": 1714671433372,
     "user": {
      "displayName": "Charitha Darapaneni",
      "userId": "11412777195678425930"
     },
     "user_tz": 300
    },
    "id": "Ir6Fu1eNYZKx",
    "outputId": "c86a2795-2a61-46fb-faec-8eb1aa07fcbe"
   },
   "outputs": [
    {
     "data": {
      "text/html": [
       "<div>\n",
       "<style scoped>\n",
       "    .dataframe tbody tr th:only-of-type {\n",
       "        vertical-align: middle;\n",
       "    }\n",
       "\n",
       "    .dataframe tbody tr th {\n",
       "        vertical-align: top;\n",
       "    }\n",
       "\n",
       "    .dataframe thead th {\n",
       "        text-align: right;\n",
       "    }\n",
       "</style>\n",
       "<table border=\"1\" class=\"dataframe\">\n",
       "  <thead>\n",
       "    <tr style=\"text-align: right;\">\n",
       "      <th></th>\n",
       "      <th>title</th>\n",
       "      <th>rating</th>\n",
       "    </tr>\n",
       "  </thead>\n",
       "  <tbody>\n",
       "    <tr>\n",
       "      <th>0</th>\n",
       "      <td>\"Great Performances\" Cats</td>\n",
       "      <td>35</td>\n",
       "    </tr>\n",
       "    <tr>\n",
       "      <th>1</th>\n",
       "      <td>#chicagoGirl: The Social Network Takes on a Di...</td>\n",
       "      <td>2</td>\n",
       "    </tr>\n",
       "    <tr>\n",
       "      <th>2</th>\n",
       "      <td>$ (Dollars)</td>\n",
       "      <td>11</td>\n",
       "    </tr>\n",
       "    <tr>\n",
       "      <th>3</th>\n",
       "      <td>$5 a Day</td>\n",
       "      <td>16</td>\n",
       "    </tr>\n",
       "    <tr>\n",
       "      <th>4</th>\n",
       "      <td>$9.99</td>\n",
       "      <td>30</td>\n",
       "    </tr>\n",
       "  </tbody>\n",
       "</table>\n",
       "</div>"
      ],
      "text/plain": [
       "                                               title  rating\n",
       "0                          \"Great Performances\" Cats      35\n",
       "1  #chicagoGirl: The Social Network Takes on a Di...       2\n",
       "2                                        $ (Dollars)      11\n",
       "3                                           $5 a Day      16\n",
       "4                                              $9.99      30"
      ]
     },
     "execution_count": 19,
     "metadata": {},
     "output_type": "execute_result"
    }
   ],
   "source": [
    "num_rating.head()"
   ]
  },
  {
   "cell_type": "code",
   "execution_count": 20,
   "metadata": {
    "executionInfo": {
     "elapsed": 219,
     "status": "ok",
     "timestamp": 1714671617426,
     "user": {
      "displayName": "Charitha Darapaneni",
      "userId": "11412777195678425930"
     },
     "user_tz": 300
    },
    "id": "dLm4lpR4YemJ"
   },
   "outputs": [],
   "source": [
    "num_rating.rename(columns={'rating': 'num_of_rating'}, inplace=True)"
   ]
  },
  {
   "cell_type": "code",
   "execution_count": 21,
   "metadata": {
    "colab": {
     "base_uri": "https://localhost:8080/",
     "height": 206
    },
    "executionInfo": {
     "elapsed": 183,
     "status": "ok",
     "timestamp": 1714671625854,
     "user": {
      "displayName": "Charitha Darapaneni",
      "userId": "11412777195678425930"
     },
     "user_tz": 300
    },
    "id": "SXLO9Nf7ZI0t",
    "outputId": "707a7e20-5f7d-447f-9209-60b96349672a"
   },
   "outputs": [
    {
     "data": {
      "text/html": [
       "<div>\n",
       "<style scoped>\n",
       "    .dataframe tbody tr th:only-of-type {\n",
       "        vertical-align: middle;\n",
       "    }\n",
       "\n",
       "    .dataframe tbody tr th {\n",
       "        vertical-align: top;\n",
       "    }\n",
       "\n",
       "    .dataframe thead th {\n",
       "        text-align: right;\n",
       "    }\n",
       "</style>\n",
       "<table border=\"1\" class=\"dataframe\">\n",
       "  <thead>\n",
       "    <tr style=\"text-align: right;\">\n",
       "      <th></th>\n",
       "      <th>title</th>\n",
       "      <th>num_of_rating</th>\n",
       "    </tr>\n",
       "  </thead>\n",
       "  <tbody>\n",
       "    <tr>\n",
       "      <th>0</th>\n",
       "      <td>\"Great Performances\" Cats</td>\n",
       "      <td>35</td>\n",
       "    </tr>\n",
       "    <tr>\n",
       "      <th>1</th>\n",
       "      <td>#chicagoGirl: The Social Network Takes on a Di...</td>\n",
       "      <td>2</td>\n",
       "    </tr>\n",
       "    <tr>\n",
       "      <th>2</th>\n",
       "      <td>$ (Dollars)</td>\n",
       "      <td>11</td>\n",
       "    </tr>\n",
       "    <tr>\n",
       "      <th>3</th>\n",
       "      <td>$5 a Day</td>\n",
       "      <td>16</td>\n",
       "    </tr>\n",
       "    <tr>\n",
       "      <th>4</th>\n",
       "      <td>$9.99</td>\n",
       "      <td>30</td>\n",
       "    </tr>\n",
       "  </tbody>\n",
       "</table>\n",
       "</div>"
      ],
      "text/plain": [
       "                                               title  num_of_rating\n",
       "0                          \"Great Performances\" Cats             35\n",
       "1  #chicagoGirl: The Social Network Takes on a Di...              2\n",
       "2                                        $ (Dollars)             11\n",
       "3                                           $5 a Day             16\n",
       "4                                              $9.99             30"
      ]
     },
     "execution_count": 21,
     "metadata": {},
     "output_type": "execute_result"
    }
   ],
   "source": [
    "num_rating.head()"
   ]
  },
  {
   "cell_type": "code",
   "execution_count": 22,
   "metadata": {
    "executionInfo": {
     "elapsed": 875,
     "status": "ok",
     "timestamp": 1714671725157,
     "user": {
      "displayName": "Charitha Darapaneni",
      "userId": "11412777195678425930"
     },
     "user_tz": 300
    },
    "id": "EsM32nVMZL1t"
   },
   "outputs": [],
   "source": [
    "final_rating = ratings_with_movies.merge(num_rating, on='title')"
   ]
  },
  {
   "cell_type": "code",
   "execution_count": 23,
   "metadata": {
    "colab": {
     "base_uri": "https://localhost:8080/",
     "height": 112
    },
    "executionInfo": {
     "elapsed": 229,
     "status": "ok",
     "timestamp": 1714671745329,
     "user": {
      "displayName": "Charitha Darapaneni",
      "userId": "11412777195678425930"
     },
     "user_tz": 300
    },
    "id": "af-I2XRFZOBT",
    "outputId": "51c15461-2b9c-4802-e53f-6bfdddfd4779"
   },
   "outputs": [
    {
     "data": {
      "text/html": [
       "<div>\n",
       "<style scoped>\n",
       "    .dataframe tbody tr th:only-of-type {\n",
       "        vertical-align: middle;\n",
       "    }\n",
       "\n",
       "    .dataframe tbody tr th {\n",
       "        vertical-align: top;\n",
       "    }\n",
       "\n",
       "    .dataframe thead th {\n",
       "        text-align: right;\n",
       "    }\n",
       "</style>\n",
       "<table border=\"1\" class=\"dataframe\">\n",
       "  <thead>\n",
       "    <tr style=\"text-align: right;\">\n",
       "      <th></th>\n",
       "      <th>userId</th>\n",
       "      <th>movieId</th>\n",
       "      <th>rating</th>\n",
       "      <th>timestamp</th>\n",
       "      <th>title</th>\n",
       "      <th>genres</th>\n",
       "      <th>year</th>\n",
       "      <th>num_of_rating</th>\n",
       "    </tr>\n",
       "  </thead>\n",
       "  <tbody>\n",
       "    <tr>\n",
       "      <th>0</th>\n",
       "      <td>7</td>\n",
       "      <td>3</td>\n",
       "      <td>3.0</td>\n",
       "      <td>1011208463</td>\n",
       "      <td>Grumpier Old Men</td>\n",
       "      <td>[Comedy, Romance]</td>\n",
       "      <td>1995</td>\n",
       "      <td>4665</td>\n",
       "    </tr>\n",
       "    <tr>\n",
       "      <th>1</th>\n",
       "      <td>91</td>\n",
       "      <td>3</td>\n",
       "      <td>3.0</td>\n",
       "      <td>1111531392</td>\n",
       "      <td>Grumpier Old Men</td>\n",
       "      <td>[Comedy, Romance]</td>\n",
       "      <td>1995</td>\n",
       "      <td>4665</td>\n",
       "    </tr>\n",
       "  </tbody>\n",
       "</table>\n",
       "</div>"
      ],
      "text/plain": [
       "   userId  movieId  rating   timestamp             title             genres  \\\n",
       "0       7        3     3.0  1011208463  Grumpier Old Men  [Comedy, Romance]   \n",
       "1      91        3     3.0  1111531392  Grumpier Old Men  [Comedy, Romance]   \n",
       "\n",
       "   year  num_of_rating  \n",
       "0  1995           4665  \n",
       "1  1995           4665  "
      ]
     },
     "execution_count": 23,
     "metadata": {},
     "output_type": "execute_result"
    }
   ],
   "source": [
    "final_rating.head(2)"
   ]
  },
  {
   "cell_type": "code",
   "execution_count": 24,
   "metadata": {
    "colab": {
     "base_uri": "https://localhost:8080/"
    },
    "executionInfo": {
     "elapsed": 187,
     "status": "ok",
     "timestamp": 1714671873681,
     "user": {
      "displayName": "Charitha Darapaneni",
      "userId": "11412777195678425930"
     },
     "user_tz": 300
    },
    "id": "gMILVpKcZN2R",
    "outputId": "519f9452-0d4b-4b21-b552-fc63d5aa345c"
   },
   "outputs": [
    {
     "data": {
      "text/plain": [
       "(12426476, 8)"
      ]
     },
     "execution_count": 24,
     "metadata": {},
     "output_type": "execute_result"
    }
   ],
   "source": [
    "final_rating.shape"
   ]
  },
  {
   "cell_type": "code",
   "execution_count": 25,
   "metadata": {
    "executionInfo": {
     "elapsed": 1019,
     "status": "ok",
     "timestamp": 1714671988167,
     "user": {
      "displayName": "Charitha Darapaneni",
      "userId": "11412777195678425930"
     },
     "user_tz": 300
    },
    "id": "QQx2uA-gZNw3"
   },
   "outputs": [],
   "source": [
    "final_rating = final_rating[final_rating['num_of_rating']>=200]"
   ]
  },
  {
   "cell_type": "code",
   "execution_count": 26,
   "metadata": {
    "colab": {
     "base_uri": "https://localhost:8080/",
     "height": 206
    },
    "executionInfo": {
     "elapsed": 362,
     "status": "ok",
     "timestamp": 1714672034221,
     "user": {
      "displayName": "Charitha Darapaneni",
      "userId": "11412777195678425930"
     },
     "user_tz": 300
    },
    "id": "Vv6upLS8aea2",
    "outputId": "57be343f-a9a2-41a8-d180-3b6f5efdec4e"
   },
   "outputs": [
    {
     "data": {
      "text/html": [
       "<div>\n",
       "<style scoped>\n",
       "    .dataframe tbody tr th:only-of-type {\n",
       "        vertical-align: middle;\n",
       "    }\n",
       "\n",
       "    .dataframe tbody tr th {\n",
       "        vertical-align: top;\n",
       "    }\n",
       "\n",
       "    .dataframe thead th {\n",
       "        text-align: right;\n",
       "    }\n",
       "</style>\n",
       "<table border=\"1\" class=\"dataframe\">\n",
       "  <thead>\n",
       "    <tr style=\"text-align: right;\">\n",
       "      <th></th>\n",
       "      <th>userId</th>\n",
       "      <th>movieId</th>\n",
       "      <th>rating</th>\n",
       "      <th>timestamp</th>\n",
       "      <th>title</th>\n",
       "      <th>genres</th>\n",
       "      <th>year</th>\n",
       "      <th>num_of_rating</th>\n",
       "    </tr>\n",
       "  </thead>\n",
       "  <tbody>\n",
       "    <tr>\n",
       "      <th>8907792</th>\n",
       "      <td>23780</td>\n",
       "      <td>8981</td>\n",
       "      <td>5.0</td>\n",
       "      <td>1233511184</td>\n",
       "      <td>Closer</td>\n",
       "      <td>[Drama, Romance]</td>\n",
       "      <td>2004</td>\n",
       "      <td>2860</td>\n",
       "    </tr>\n",
       "    <tr>\n",
       "      <th>9656181</th>\n",
       "      <td>98091</td>\n",
       "      <td>319</td>\n",
       "      <td>2.0</td>\n",
       "      <td>1032680108</td>\n",
       "      <td>Shallow Grave</td>\n",
       "      <td>[Comedy, Drama, Thriller]</td>\n",
       "      <td>1994</td>\n",
       "      <td>3669</td>\n",
       "    </tr>\n",
       "    <tr>\n",
       "      <th>11917510</th>\n",
       "      <td>47848</td>\n",
       "      <td>5447</td>\n",
       "      <td>3.0</td>\n",
       "      <td>1041858949</td>\n",
       "      <td>Sunshine State</td>\n",
       "      <td>[Drama]</td>\n",
       "      <td>2002</td>\n",
       "      <td>408</td>\n",
       "    </tr>\n",
       "    <tr>\n",
       "      <th>7760351</th>\n",
       "      <td>69654</td>\n",
       "      <td>315</td>\n",
       "      <td>2.0</td>\n",
       "      <td>951876427</td>\n",
       "      <td>Specialist, The</td>\n",
       "      <td>[Action, Drama, Thriller]</td>\n",
       "      <td>1994</td>\n",
       "      <td>3279</td>\n",
       "    </tr>\n",
       "    <tr>\n",
       "      <th>9822513</th>\n",
       "      <td>98628</td>\n",
       "      <td>3258</td>\n",
       "      <td>2.0</td>\n",
       "      <td>1100375706</td>\n",
       "      <td>Death Becomes Her</td>\n",
       "      <td>[Comedy, Fantasy]</td>\n",
       "      <td>1992</td>\n",
       "      <td>2791</td>\n",
       "    </tr>\n",
       "  </tbody>\n",
       "</table>\n",
       "</div>"
      ],
      "text/plain": [
       "          userId  movieId  rating   timestamp              title  \\\n",
       "8907792    23780     8981     5.0  1233511184             Closer   \n",
       "9656181    98091      319     2.0  1032680108      Shallow Grave   \n",
       "11917510   47848     5447     3.0  1041858949     Sunshine State   \n",
       "7760351    69654      315     2.0   951876427    Specialist, The   \n",
       "9822513    98628     3258     2.0  1100375706  Death Becomes Her   \n",
       "\n",
       "                             genres  year  num_of_rating  \n",
       "8907792            [Drama, Romance]  2004           2860  \n",
       "9656181   [Comedy, Drama, Thriller]  1994           3669  \n",
       "11917510                    [Drama]  2002            408  \n",
       "7760351   [Action, Drama, Thriller]  1994           3279  \n",
       "9822513           [Comedy, Fantasy]  1992           2791  "
      ]
     },
     "execution_count": 26,
     "metadata": {},
     "output_type": "execute_result"
    }
   ],
   "source": [
    "final_rating.sample(5)"
   ]
  },
  {
   "cell_type": "code",
   "execution_count": 27,
   "metadata": {
    "colab": {
     "base_uri": "https://localhost:8080/"
    },
    "executionInfo": {
     "elapsed": 596,
     "status": "ok",
     "timestamp": 1714672062268,
     "user": {
      "displayName": "Charitha Darapaneni",
      "userId": "11412777195678425930"
     },
     "user_tz": 300
    },
    "id": "kuS3rEtXaePi",
    "outputId": "d890a561-b1cd-470a-99f8-bde075520412"
   },
   "outputs": [
    {
     "data": {
      "text/plain": [
       "(11883373, 8)"
      ]
     },
     "execution_count": 27,
     "metadata": {},
     "output_type": "execute_result"
    }
   ],
   "source": [
    "final_rating.shape"
   ]
  },
  {
   "cell_type": "code",
   "execution_count": 28,
   "metadata": {
    "executionInfo": {
     "elapsed": 1975,
     "status": "ok",
     "timestamp": 1714672133513,
     "user": {
      "displayName": "Charitha Darapaneni",
      "userId": "11412777195678425930"
     },
     "user_tz": 300
    },
    "id": "KJTkQyh9ad5l"
   },
   "outputs": [],
   "source": [
    "final_rating.drop_duplicates(['userId', 'title'], inplace=True)"
   ]
  },
  {
   "cell_type": "code",
   "execution_count": 29,
   "metadata": {
    "colab": {
     "base_uri": "https://localhost:8080/"
    },
    "executionInfo": {
     "elapsed": 179,
     "status": "ok",
     "timestamp": 1714672144352,
     "user": {
      "displayName": "Charitha Darapaneni",
      "userId": "11412777195678425930"
     },
     "user_tz": 300
    },
    "id": "ot5k4mGQaqn4",
    "outputId": "baeb953a-314f-487d-96c1-7ee210a77ba6"
   },
   "outputs": [
    {
     "data": {
      "text/plain": [
       "(11821205, 8)"
      ]
     },
     "execution_count": 29,
     "metadata": {},
     "output_type": "execute_result"
    }
   ],
   "source": [
    "final_rating.shape"
   ]
  },
  {
   "cell_type": "code",
   "execution_count": 30,
   "metadata": {
    "colab": {
     "base_uri": "https://localhost:8080/",
     "height": 423
    },
    "executionInfo": {
     "elapsed": 166,
     "status": "ok",
     "timestamp": 1714672216551,
     "user": {
      "displayName": "Charitha Darapaneni",
      "userId": "11412777195678425930"
     },
     "user_tz": 300
    },
    "id": "YUstka_5bZGw",
    "outputId": "910ca9f1-f1b5-4fb3-c143-30eedec83a57"
   },
   "outputs": [
    {
     "data": {
      "text/html": [
       "<div>\n",
       "<style scoped>\n",
       "    .dataframe tbody tr th:only-of-type {\n",
       "        vertical-align: middle;\n",
       "    }\n",
       "\n",
       "    .dataframe tbody tr th {\n",
       "        vertical-align: top;\n",
       "    }\n",
       "\n",
       "    .dataframe thead th {\n",
       "        text-align: right;\n",
       "    }\n",
       "</style>\n",
       "<table border=\"1\" class=\"dataframe\">\n",
       "  <thead>\n",
       "    <tr style=\"text-align: right;\">\n",
       "      <th></th>\n",
       "      <th>userId</th>\n",
       "      <th>movieId</th>\n",
       "      <th>rating</th>\n",
       "      <th>timestamp</th>\n",
       "      <th>title</th>\n",
       "      <th>genres</th>\n",
       "      <th>year</th>\n",
       "      <th>num_of_rating</th>\n",
       "    </tr>\n",
       "  </thead>\n",
       "  <tbody>\n",
       "    <tr>\n",
       "      <th>0</th>\n",
       "      <td>7</td>\n",
       "      <td>3</td>\n",
       "      <td>3.0</td>\n",
       "      <td>1011208463</td>\n",
       "      <td>Grumpier Old Men</td>\n",
       "      <td>[Comedy, Romance]</td>\n",
       "      <td>1995</td>\n",
       "      <td>4665</td>\n",
       "    </tr>\n",
       "    <tr>\n",
       "      <th>1</th>\n",
       "      <td>91</td>\n",
       "      <td>3</td>\n",
       "      <td>3.0</td>\n",
       "      <td>1111531392</td>\n",
       "      <td>Grumpier Old Men</td>\n",
       "      <td>[Comedy, Romance]</td>\n",
       "      <td>1995</td>\n",
       "      <td>4665</td>\n",
       "    </tr>\n",
       "    <tr>\n",
       "      <th>2</th>\n",
       "      <td>96</td>\n",
       "      <td>3</td>\n",
       "      <td>4.0</td>\n",
       "      <td>1371089927</td>\n",
       "      <td>Grumpier Old Men</td>\n",
       "      <td>[Comedy, Romance]</td>\n",
       "      <td>1995</td>\n",
       "      <td>4665</td>\n",
       "    </tr>\n",
       "    <tr>\n",
       "      <th>3</th>\n",
       "      <td>116</td>\n",
       "      <td>3</td>\n",
       "      <td>2.0</td>\n",
       "      <td>1132728058</td>\n",
       "      <td>Grumpier Old Men</td>\n",
       "      <td>[Comedy, Romance]</td>\n",
       "      <td>1995</td>\n",
       "      <td>4665</td>\n",
       "    </tr>\n",
       "    <tr>\n",
       "      <th>4</th>\n",
       "      <td>156</td>\n",
       "      <td>3</td>\n",
       "      <td>2.0</td>\n",
       "      <td>1038801225</td>\n",
       "      <td>Grumpier Old Men</td>\n",
       "      <td>[Comedy, Romance]</td>\n",
       "      <td>1995</td>\n",
       "      <td>4665</td>\n",
       "    </tr>\n",
       "    <tr>\n",
       "      <th>...</th>\n",
       "      <td>...</td>\n",
       "      <td>...</td>\n",
       "      <td>...</td>\n",
       "      <td>...</td>\n",
       "      <td>...</td>\n",
       "      <td>...</td>\n",
       "      <td>...</td>\n",
       "      <td>...</td>\n",
       "    </tr>\n",
       "    <tr>\n",
       "      <th>12308381</th>\n",
       "      <td>137342</td>\n",
       "      <td>6478</td>\n",
       "      <td>5.0</td>\n",
       "      <td>1258059686</td>\n",
       "      <td>Life and Times of Judge Roy Bean, The</td>\n",
       "      <td>[Comedy, Western]</td>\n",
       "      <td>1972</td>\n",
       "      <td>231</td>\n",
       "    </tr>\n",
       "    <tr>\n",
       "      <th>12308382</th>\n",
       "      <td>137409</td>\n",
       "      <td>6478</td>\n",
       "      <td>3.0</td>\n",
       "      <td>1109610682</td>\n",
       "      <td>Life and Times of Judge Roy Bean, The</td>\n",
       "      <td>[Comedy, Western]</td>\n",
       "      <td>1972</td>\n",
       "      <td>231</td>\n",
       "    </tr>\n",
       "    <tr>\n",
       "      <th>12308383</th>\n",
       "      <td>137854</td>\n",
       "      <td>6478</td>\n",
       "      <td>4.0</td>\n",
       "      <td>1094701431</td>\n",
       "      <td>Life and Times of Judge Roy Bean, The</td>\n",
       "      <td>[Comedy, Western]</td>\n",
       "      <td>1972</td>\n",
       "      <td>231</td>\n",
       "    </tr>\n",
       "    <tr>\n",
       "      <th>12308384</th>\n",
       "      <td>137926</td>\n",
       "      <td>6478</td>\n",
       "      <td>3.0</td>\n",
       "      <td>1063286157</td>\n",
       "      <td>Life and Times of Judge Roy Bean, The</td>\n",
       "      <td>[Comedy, Western]</td>\n",
       "      <td>1972</td>\n",
       "      <td>231</td>\n",
       "    </tr>\n",
       "    <tr>\n",
       "      <th>12308385</th>\n",
       "      <td>138397</td>\n",
       "      <td>6478</td>\n",
       "      <td>4.0</td>\n",
       "      <td>1112706960</td>\n",
       "      <td>Life and Times of Judge Roy Bean, The</td>\n",
       "      <td>[Comedy, Western]</td>\n",
       "      <td>1972</td>\n",
       "      <td>231</td>\n",
       "    </tr>\n",
       "  </tbody>\n",
       "</table>\n",
       "<p>11821205 rows × 8 columns</p>\n",
       "</div>"
      ],
      "text/plain": [
       "          userId  movieId  rating   timestamp  \\\n",
       "0              7        3     3.0  1011208463   \n",
       "1             91        3     3.0  1111531392   \n",
       "2             96        3     4.0  1371089927   \n",
       "3            116        3     2.0  1132728058   \n",
       "4            156        3     2.0  1038801225   \n",
       "...          ...      ...     ...         ...   \n",
       "12308381  137342     6478     5.0  1258059686   \n",
       "12308382  137409     6478     3.0  1109610682   \n",
       "12308383  137854     6478     4.0  1094701431   \n",
       "12308384  137926     6478     3.0  1063286157   \n",
       "12308385  138397     6478     4.0  1112706960   \n",
       "\n",
       "                                          title             genres  year  \\\n",
       "0                              Grumpier Old Men  [Comedy, Romance]  1995   \n",
       "1                              Grumpier Old Men  [Comedy, Romance]  1995   \n",
       "2                              Grumpier Old Men  [Comedy, Romance]  1995   \n",
       "3                              Grumpier Old Men  [Comedy, Romance]  1995   \n",
       "4                              Grumpier Old Men  [Comedy, Romance]  1995   \n",
       "...                                         ...                ...   ...   \n",
       "12308381  Life and Times of Judge Roy Bean, The  [Comedy, Western]  1972   \n",
       "12308382  Life and Times of Judge Roy Bean, The  [Comedy, Western]  1972   \n",
       "12308383  Life and Times of Judge Roy Bean, The  [Comedy, Western]  1972   \n",
       "12308384  Life and Times of Judge Roy Bean, The  [Comedy, Western]  1972   \n",
       "12308385  Life and Times of Judge Roy Bean, The  [Comedy, Western]  1972   \n",
       "\n",
       "          num_of_rating  \n",
       "0                  4665  \n",
       "1                  4665  \n",
       "2                  4665  \n",
       "3                  4665  \n",
       "4                  4665  \n",
       "...                 ...  \n",
       "12308381            231  \n",
       "12308382            231  \n",
       "12308383            231  \n",
       "12308384            231  \n",
       "12308385            231  \n",
       "\n",
       "[11821205 rows x 8 columns]"
      ]
     },
     "execution_count": 30,
     "metadata": {},
     "output_type": "execute_result"
    }
   ],
   "source": [
    "final_rating"
   ]
  },
  {
   "cell_type": "code",
   "execution_count": 31,
   "metadata": {
    "executionInfo": {
     "elapsed": 6399,
     "status": "ok",
     "timestamp": 1714672598360,
     "user": {
      "displayName": "Charitha Darapaneni",
      "userId": "11412777195678425930"
     },
     "user_tz": 300
    },
    "id": "joKrdp6zbdRd"
   },
   "outputs": [],
   "source": [
    "movie_pivot = final_rating.pivot_table(columns='userId', index='title', values='rating')"
   ]
  },
  {
   "cell_type": "code",
   "execution_count": 32,
   "metadata": {
    "colab": {
     "base_uri": "https://localhost:8080/",
     "height": 455
    },
    "executionInfo": {
     "elapsed": 362,
     "status": "ok",
     "timestamp": 1714672608089,
     "user": {
      "displayName": "Charitha Darapaneni",
      "userId": "11412777195678425930"
     },
     "user_tz": 300
    },
    "id": "zg4d-BiPc4zg",
    "outputId": "ce66e066-46ce-4558-b653-b256dd4a7eb6"
   },
   "outputs": [
    {
     "data": {
      "text/html": [
       "<div>\n",
       "<style scoped>\n",
       "    .dataframe tbody tr th:only-of-type {\n",
       "        vertical-align: middle;\n",
       "    }\n",
       "\n",
       "    .dataframe tbody tr th {\n",
       "        vertical-align: top;\n",
       "    }\n",
       "\n",
       "    .dataframe thead th {\n",
       "        text-align: right;\n",
       "    }\n",
       "</style>\n",
       "<table border=\"1\" class=\"dataframe\">\n",
       "  <thead>\n",
       "    <tr style=\"text-align: right;\">\n",
       "      <th>userId</th>\n",
       "      <th>7</th>\n",
       "      <th>11</th>\n",
       "      <th>14</th>\n",
       "      <th>24</th>\n",
       "      <th>31</th>\n",
       "      <th>53</th>\n",
       "      <th>54</th>\n",
       "      <th>58</th>\n",
       "      <th>69</th>\n",
       "      <th>82</th>\n",
       "      <th>...</th>\n",
       "      <th>138456</th>\n",
       "      <th>138457</th>\n",
       "      <th>138459</th>\n",
       "      <th>138464</th>\n",
       "      <th>138467</th>\n",
       "      <th>138472</th>\n",
       "      <th>138474</th>\n",
       "      <th>138477</th>\n",
       "      <th>138483</th>\n",
       "      <th>138493</th>\n",
       "    </tr>\n",
       "    <tr>\n",
       "      <th>title</th>\n",
       "      <th></th>\n",
       "      <th></th>\n",
       "      <th></th>\n",
       "      <th></th>\n",
       "      <th></th>\n",
       "      <th></th>\n",
       "      <th></th>\n",
       "      <th></th>\n",
       "      <th></th>\n",
       "      <th></th>\n",
       "      <th></th>\n",
       "      <th></th>\n",
       "      <th></th>\n",
       "      <th></th>\n",
       "      <th></th>\n",
       "      <th></th>\n",
       "      <th></th>\n",
       "      <th></th>\n",
       "      <th></th>\n",
       "      <th></th>\n",
       "      <th></th>\n",
       "    </tr>\n",
       "  </thead>\n",
       "  <tbody>\n",
       "    <tr>\n",
       "      <th>'Til There Was You</th>\n",
       "      <td>NaN</td>\n",
       "      <td>NaN</td>\n",
       "      <td>NaN</td>\n",
       "      <td>NaN</td>\n",
       "      <td>NaN</td>\n",
       "      <td>NaN</td>\n",
       "      <td>NaN</td>\n",
       "      <td>NaN</td>\n",
       "      <td>NaN</td>\n",
       "      <td>NaN</td>\n",
       "      <td>...</td>\n",
       "      <td>NaN</td>\n",
       "      <td>NaN</td>\n",
       "      <td>NaN</td>\n",
       "      <td>NaN</td>\n",
       "      <td>NaN</td>\n",
       "      <td>NaN</td>\n",
       "      <td>NaN</td>\n",
       "      <td>NaN</td>\n",
       "      <td>NaN</td>\n",
       "      <td>NaN</td>\n",
       "    </tr>\n",
       "    <tr>\n",
       "      <th>'burbs, The</th>\n",
       "      <td>NaN</td>\n",
       "      <td>NaN</td>\n",
       "      <td>NaN</td>\n",
       "      <td>NaN</td>\n",
       "      <td>NaN</td>\n",
       "      <td>NaN</td>\n",
       "      <td>3.0</td>\n",
       "      <td>NaN</td>\n",
       "      <td>NaN</td>\n",
       "      <td>NaN</td>\n",
       "      <td>...</td>\n",
       "      <td>3.0</td>\n",
       "      <td>3.0</td>\n",
       "      <td>NaN</td>\n",
       "      <td>NaN</td>\n",
       "      <td>NaN</td>\n",
       "      <td>NaN</td>\n",
       "      <td>4.0</td>\n",
       "      <td>NaN</td>\n",
       "      <td>NaN</td>\n",
       "      <td>NaN</td>\n",
       "    </tr>\n",
       "    <tr>\n",
       "      <th>'night Mother</th>\n",
       "      <td>NaN</td>\n",
       "      <td>NaN</td>\n",
       "      <td>NaN</td>\n",
       "      <td>NaN</td>\n",
       "      <td>NaN</td>\n",
       "      <td>NaN</td>\n",
       "      <td>NaN</td>\n",
       "      <td>NaN</td>\n",
       "      <td>NaN</td>\n",
       "      <td>NaN</td>\n",
       "      <td>...</td>\n",
       "      <td>NaN</td>\n",
       "      <td>NaN</td>\n",
       "      <td>NaN</td>\n",
       "      <td>NaN</td>\n",
       "      <td>NaN</td>\n",
       "      <td>NaN</td>\n",
       "      <td>NaN</td>\n",
       "      <td>NaN</td>\n",
       "      <td>NaN</td>\n",
       "      <td>NaN</td>\n",
       "    </tr>\n",
       "    <tr>\n",
       "      <th>(500) Days of Summer</th>\n",
       "      <td>NaN</td>\n",
       "      <td>NaN</td>\n",
       "      <td>NaN</td>\n",
       "      <td>NaN</td>\n",
       "      <td>NaN</td>\n",
       "      <td>NaN</td>\n",
       "      <td>NaN</td>\n",
       "      <td>NaN</td>\n",
       "      <td>NaN</td>\n",
       "      <td>NaN</td>\n",
       "      <td>...</td>\n",
       "      <td>NaN</td>\n",
       "      <td>NaN</td>\n",
       "      <td>NaN</td>\n",
       "      <td>NaN</td>\n",
       "      <td>NaN</td>\n",
       "      <td>3.5</td>\n",
       "      <td>NaN</td>\n",
       "      <td>NaN</td>\n",
       "      <td>NaN</td>\n",
       "      <td>NaN</td>\n",
       "    </tr>\n",
       "    <tr>\n",
       "      <th>*batteries not included</th>\n",
       "      <td>NaN</td>\n",
       "      <td>5.0</td>\n",
       "      <td>NaN</td>\n",
       "      <td>NaN</td>\n",
       "      <td>NaN</td>\n",
       "      <td>NaN</td>\n",
       "      <td>NaN</td>\n",
       "      <td>NaN</td>\n",
       "      <td>NaN</td>\n",
       "      <td>NaN</td>\n",
       "      <td>...</td>\n",
       "      <td>NaN</td>\n",
       "      <td>NaN</td>\n",
       "      <td>NaN</td>\n",
       "      <td>NaN</td>\n",
       "      <td>NaN</td>\n",
       "      <td>NaN</td>\n",
       "      <td>NaN</td>\n",
       "      <td>NaN</td>\n",
       "      <td>NaN</td>\n",
       "      <td>NaN</td>\n",
       "    </tr>\n",
       "    <tr>\n",
       "      <th>...</th>\n",
       "      <td>...</td>\n",
       "      <td>...</td>\n",
       "      <td>...</td>\n",
       "      <td>...</td>\n",
       "      <td>...</td>\n",
       "      <td>...</td>\n",
       "      <td>...</td>\n",
       "      <td>...</td>\n",
       "      <td>...</td>\n",
       "      <td>...</td>\n",
       "      <td>...</td>\n",
       "      <td>...</td>\n",
       "      <td>...</td>\n",
       "      <td>...</td>\n",
       "      <td>...</td>\n",
       "      <td>...</td>\n",
       "      <td>...</td>\n",
       "      <td>...</td>\n",
       "      <td>...</td>\n",
       "      <td>...</td>\n",
       "      <td>...</td>\n",
       "    </tr>\n",
       "    <tr>\n",
       "      <th>[REC]</th>\n",
       "      <td>NaN</td>\n",
       "      <td>NaN</td>\n",
       "      <td>NaN</td>\n",
       "      <td>NaN</td>\n",
       "      <td>NaN</td>\n",
       "      <td>NaN</td>\n",
       "      <td>NaN</td>\n",
       "      <td>NaN</td>\n",
       "      <td>NaN</td>\n",
       "      <td>NaN</td>\n",
       "      <td>...</td>\n",
       "      <td>NaN</td>\n",
       "      <td>NaN</td>\n",
       "      <td>NaN</td>\n",
       "      <td>NaN</td>\n",
       "      <td>NaN</td>\n",
       "      <td>NaN</td>\n",
       "      <td>NaN</td>\n",
       "      <td>NaN</td>\n",
       "      <td>NaN</td>\n",
       "      <td>NaN</td>\n",
       "    </tr>\n",
       "    <tr>\n",
       "      <th>eXistenZ</th>\n",
       "      <td>NaN</td>\n",
       "      <td>5.0</td>\n",
       "      <td>NaN</td>\n",
       "      <td>3.0</td>\n",
       "      <td>NaN</td>\n",
       "      <td>NaN</td>\n",
       "      <td>NaN</td>\n",
       "      <td>NaN</td>\n",
       "      <td>NaN</td>\n",
       "      <td>NaN</td>\n",
       "      <td>...</td>\n",
       "      <td>NaN</td>\n",
       "      <td>NaN</td>\n",
       "      <td>NaN</td>\n",
       "      <td>NaN</td>\n",
       "      <td>NaN</td>\n",
       "      <td>NaN</td>\n",
       "      <td>NaN</td>\n",
       "      <td>NaN</td>\n",
       "      <td>NaN</td>\n",
       "      <td>NaN</td>\n",
       "    </tr>\n",
       "    <tr>\n",
       "      <th>xXx</th>\n",
       "      <td>NaN</td>\n",
       "      <td>NaN</td>\n",
       "      <td>NaN</td>\n",
       "      <td>NaN</td>\n",
       "      <td>NaN</td>\n",
       "      <td>NaN</td>\n",
       "      <td>NaN</td>\n",
       "      <td>NaN</td>\n",
       "      <td>NaN</td>\n",
       "      <td>NaN</td>\n",
       "      <td>...</td>\n",
       "      <td>NaN</td>\n",
       "      <td>NaN</td>\n",
       "      <td>NaN</td>\n",
       "      <td>NaN</td>\n",
       "      <td>NaN</td>\n",
       "      <td>NaN</td>\n",
       "      <td>NaN</td>\n",
       "      <td>1.0</td>\n",
       "      <td>NaN</td>\n",
       "      <td>NaN</td>\n",
       "    </tr>\n",
       "    <tr>\n",
       "      <th>xXx: State of the Union</th>\n",
       "      <td>NaN</td>\n",
       "      <td>NaN</td>\n",
       "      <td>NaN</td>\n",
       "      <td>NaN</td>\n",
       "      <td>NaN</td>\n",
       "      <td>NaN</td>\n",
       "      <td>NaN</td>\n",
       "      <td>NaN</td>\n",
       "      <td>NaN</td>\n",
       "      <td>NaN</td>\n",
       "      <td>...</td>\n",
       "      <td>NaN</td>\n",
       "      <td>NaN</td>\n",
       "      <td>NaN</td>\n",
       "      <td>NaN</td>\n",
       "      <td>NaN</td>\n",
       "      <td>NaN</td>\n",
       "      <td>NaN</td>\n",
       "      <td>NaN</td>\n",
       "      <td>NaN</td>\n",
       "      <td>NaN</td>\n",
       "    </tr>\n",
       "    <tr>\n",
       "      <th>¡Three Amigos!</th>\n",
       "      <td>2.0</td>\n",
       "      <td>NaN</td>\n",
       "      <td>NaN</td>\n",
       "      <td>NaN</td>\n",
       "      <td>NaN</td>\n",
       "      <td>NaN</td>\n",
       "      <td>3.0</td>\n",
       "      <td>NaN</td>\n",
       "      <td>NaN</td>\n",
       "      <td>NaN</td>\n",
       "      <td>...</td>\n",
       "      <td>NaN</td>\n",
       "      <td>NaN</td>\n",
       "      <td>NaN</td>\n",
       "      <td>NaN</td>\n",
       "      <td>NaN</td>\n",
       "      <td>NaN</td>\n",
       "      <td>NaN</td>\n",
       "      <td>NaN</td>\n",
       "      <td>NaN</td>\n",
       "      <td>NaN</td>\n",
       "    </tr>\n",
       "  </tbody>\n",
       "</table>\n",
       "<p>6106 rows × 26599 columns</p>\n",
       "</div>"
      ],
      "text/plain": [
       "userId                   7       11      14      24      31      53      \\\n",
       "title                                                                     \n",
       "'Til There Was You          NaN     NaN     NaN     NaN     NaN     NaN   \n",
       "'burbs, The                 NaN     NaN     NaN     NaN     NaN     NaN   \n",
       "'night Mother               NaN     NaN     NaN     NaN     NaN     NaN   \n",
       "(500) Days of Summer        NaN     NaN     NaN     NaN     NaN     NaN   \n",
       "*batteries not included     NaN     5.0     NaN     NaN     NaN     NaN   \n",
       "...                         ...     ...     ...     ...     ...     ...   \n",
       "[REC]                       NaN     NaN     NaN     NaN     NaN     NaN   \n",
       "eXistenZ                    NaN     5.0     NaN     3.0     NaN     NaN   \n",
       "xXx                         NaN     NaN     NaN     NaN     NaN     NaN   \n",
       "xXx: State of the Union     NaN     NaN     NaN     NaN     NaN     NaN   \n",
       "¡Three Amigos!              2.0     NaN     NaN     NaN     NaN     NaN   \n",
       "\n",
       "userId                   54      58      69      82      ...  138456  138457  \\\n",
       "title                                                    ...                   \n",
       "'Til There Was You          NaN     NaN     NaN     NaN  ...     NaN     NaN   \n",
       "'burbs, The                 3.0     NaN     NaN     NaN  ...     3.0     3.0   \n",
       "'night Mother               NaN     NaN     NaN     NaN  ...     NaN     NaN   \n",
       "(500) Days of Summer        NaN     NaN     NaN     NaN  ...     NaN     NaN   \n",
       "*batteries not included     NaN     NaN     NaN     NaN  ...     NaN     NaN   \n",
       "...                         ...     ...     ...     ...  ...     ...     ...   \n",
       "[REC]                       NaN     NaN     NaN     NaN  ...     NaN     NaN   \n",
       "eXistenZ                    NaN     NaN     NaN     NaN  ...     NaN     NaN   \n",
       "xXx                         NaN     NaN     NaN     NaN  ...     NaN     NaN   \n",
       "xXx: State of the Union     NaN     NaN     NaN     NaN  ...     NaN     NaN   \n",
       "¡Three Amigos!              3.0     NaN     NaN     NaN  ...     NaN     NaN   \n",
       "\n",
       "userId                   138459  138464  138467  138472  138474  138477  \\\n",
       "title                                                                     \n",
       "'Til There Was You          NaN     NaN     NaN     NaN     NaN     NaN   \n",
       "'burbs, The                 NaN     NaN     NaN     NaN     4.0     NaN   \n",
       "'night Mother               NaN     NaN     NaN     NaN     NaN     NaN   \n",
       "(500) Days of Summer        NaN     NaN     NaN     3.5     NaN     NaN   \n",
       "*batteries not included     NaN     NaN     NaN     NaN     NaN     NaN   \n",
       "...                         ...     ...     ...     ...     ...     ...   \n",
       "[REC]                       NaN     NaN     NaN     NaN     NaN     NaN   \n",
       "eXistenZ                    NaN     NaN     NaN     NaN     NaN     NaN   \n",
       "xXx                         NaN     NaN     NaN     NaN     NaN     1.0   \n",
       "xXx: State of the Union     NaN     NaN     NaN     NaN     NaN     NaN   \n",
       "¡Three Amigos!              NaN     NaN     NaN     NaN     NaN     NaN   \n",
       "\n",
       "userId                   138483  138493  \n",
       "title                                    \n",
       "'Til There Was You          NaN     NaN  \n",
       "'burbs, The                 NaN     NaN  \n",
       "'night Mother               NaN     NaN  \n",
       "(500) Days of Summer        NaN     NaN  \n",
       "*batteries not included     NaN     NaN  \n",
       "...                         ...     ...  \n",
       "[REC]                       NaN     NaN  \n",
       "eXistenZ                    NaN     NaN  \n",
       "xXx                         NaN     NaN  \n",
       "xXx: State of the Union     NaN     NaN  \n",
       "¡Three Amigos!              NaN     NaN  \n",
       "\n",
       "[6106 rows x 26599 columns]"
      ]
     },
     "execution_count": 32,
     "metadata": {},
     "output_type": "execute_result"
    }
   ],
   "source": [
    "movie_pivot"
   ]
  },
  {
   "cell_type": "code",
   "execution_count": 33,
   "metadata": {
    "colab": {
     "base_uri": "https://localhost:8080/"
    },
    "executionInfo": {
     "elapsed": 166,
     "status": "ok",
     "timestamp": 1714672641123,
     "user": {
      "displayName": "Charitha Darapaneni",
      "userId": "11412777195678425930"
     },
     "user_tz": 300
    },
    "id": "yPnbuXs2c-4d",
    "outputId": "c15c5cc6-c636-4c0e-d59a-2887f8f2550a"
   },
   "outputs": [
    {
     "data": {
      "text/plain": [
       "(6106, 26599)"
      ]
     },
     "execution_count": 33,
     "metadata": {},
     "output_type": "execute_result"
    }
   ],
   "source": [
    "movie_pivot.shape"
   ]
  },
  {
   "cell_type": "code",
   "execution_count": 34,
   "metadata": {
    "executionInfo": {
     "elapsed": 2545,
     "status": "ok",
     "timestamp": 1714672674194,
     "user": {
      "displayName": "Charitha Darapaneni",
      "userId": "11412777195678425930"
     },
     "user_tz": 300
    },
    "id": "YtxMgP-HdDh6"
   },
   "outputs": [],
   "source": [
    "movie_pivot.fillna(0, inplace=True)"
   ]
  },
  {
   "cell_type": "code",
   "execution_count": 35,
   "metadata": {
    "colab": {
     "base_uri": "https://localhost:8080/",
     "height": 455
    },
    "executionInfo": {
     "elapsed": 185,
     "status": "ok",
     "timestamp": 1714672682834,
     "user": {
      "displayName": "Charitha Darapaneni",
      "userId": "11412777195678425930"
     },
     "user_tz": 300
    },
    "id": "WRENdSqkdLAm",
    "outputId": "9a41921c-5d1a-4c0c-c851-ea9b6b384709"
   },
   "outputs": [
    {
     "data": {
      "text/html": [
       "<div>\n",
       "<style scoped>\n",
       "    .dataframe tbody tr th:only-of-type {\n",
       "        vertical-align: middle;\n",
       "    }\n",
       "\n",
       "    .dataframe tbody tr th {\n",
       "        vertical-align: top;\n",
       "    }\n",
       "\n",
       "    .dataframe thead th {\n",
       "        text-align: right;\n",
       "    }\n",
       "</style>\n",
       "<table border=\"1\" class=\"dataframe\">\n",
       "  <thead>\n",
       "    <tr style=\"text-align: right;\">\n",
       "      <th>userId</th>\n",
       "      <th>7</th>\n",
       "      <th>11</th>\n",
       "      <th>14</th>\n",
       "      <th>24</th>\n",
       "      <th>31</th>\n",
       "      <th>53</th>\n",
       "      <th>54</th>\n",
       "      <th>58</th>\n",
       "      <th>69</th>\n",
       "      <th>82</th>\n",
       "      <th>...</th>\n",
       "      <th>138456</th>\n",
       "      <th>138457</th>\n",
       "      <th>138459</th>\n",
       "      <th>138464</th>\n",
       "      <th>138467</th>\n",
       "      <th>138472</th>\n",
       "      <th>138474</th>\n",
       "      <th>138477</th>\n",
       "      <th>138483</th>\n",
       "      <th>138493</th>\n",
       "    </tr>\n",
       "    <tr>\n",
       "      <th>title</th>\n",
       "      <th></th>\n",
       "      <th></th>\n",
       "      <th></th>\n",
       "      <th></th>\n",
       "      <th></th>\n",
       "      <th></th>\n",
       "      <th></th>\n",
       "      <th></th>\n",
       "      <th></th>\n",
       "      <th></th>\n",
       "      <th></th>\n",
       "      <th></th>\n",
       "      <th></th>\n",
       "      <th></th>\n",
       "      <th></th>\n",
       "      <th></th>\n",
       "      <th></th>\n",
       "      <th></th>\n",
       "      <th></th>\n",
       "      <th></th>\n",
       "      <th></th>\n",
       "    </tr>\n",
       "  </thead>\n",
       "  <tbody>\n",
       "    <tr>\n",
       "      <th>'Til There Was You</th>\n",
       "      <td>0.0</td>\n",
       "      <td>0.0</td>\n",
       "      <td>0.0</td>\n",
       "      <td>0.0</td>\n",
       "      <td>0.0</td>\n",
       "      <td>0.0</td>\n",
       "      <td>0.0</td>\n",
       "      <td>0.0</td>\n",
       "      <td>0.0</td>\n",
       "      <td>0.0</td>\n",
       "      <td>...</td>\n",
       "      <td>0.0</td>\n",
       "      <td>0.0</td>\n",
       "      <td>0.0</td>\n",
       "      <td>0.0</td>\n",
       "      <td>0.0</td>\n",
       "      <td>0.0</td>\n",
       "      <td>0.0</td>\n",
       "      <td>0.0</td>\n",
       "      <td>0.0</td>\n",
       "      <td>0.0</td>\n",
       "    </tr>\n",
       "    <tr>\n",
       "      <th>'burbs, The</th>\n",
       "      <td>0.0</td>\n",
       "      <td>0.0</td>\n",
       "      <td>0.0</td>\n",
       "      <td>0.0</td>\n",
       "      <td>0.0</td>\n",
       "      <td>0.0</td>\n",
       "      <td>3.0</td>\n",
       "      <td>0.0</td>\n",
       "      <td>0.0</td>\n",
       "      <td>0.0</td>\n",
       "      <td>...</td>\n",
       "      <td>3.0</td>\n",
       "      <td>3.0</td>\n",
       "      <td>0.0</td>\n",
       "      <td>0.0</td>\n",
       "      <td>0.0</td>\n",
       "      <td>0.0</td>\n",
       "      <td>4.0</td>\n",
       "      <td>0.0</td>\n",
       "      <td>0.0</td>\n",
       "      <td>0.0</td>\n",
       "    </tr>\n",
       "    <tr>\n",
       "      <th>'night Mother</th>\n",
       "      <td>0.0</td>\n",
       "      <td>0.0</td>\n",
       "      <td>0.0</td>\n",
       "      <td>0.0</td>\n",
       "      <td>0.0</td>\n",
       "      <td>0.0</td>\n",
       "      <td>0.0</td>\n",
       "      <td>0.0</td>\n",
       "      <td>0.0</td>\n",
       "      <td>0.0</td>\n",
       "      <td>...</td>\n",
       "      <td>0.0</td>\n",
       "      <td>0.0</td>\n",
       "      <td>0.0</td>\n",
       "      <td>0.0</td>\n",
       "      <td>0.0</td>\n",
       "      <td>0.0</td>\n",
       "      <td>0.0</td>\n",
       "      <td>0.0</td>\n",
       "      <td>0.0</td>\n",
       "      <td>0.0</td>\n",
       "    </tr>\n",
       "    <tr>\n",
       "      <th>(500) Days of Summer</th>\n",
       "      <td>0.0</td>\n",
       "      <td>0.0</td>\n",
       "      <td>0.0</td>\n",
       "      <td>0.0</td>\n",
       "      <td>0.0</td>\n",
       "      <td>0.0</td>\n",
       "      <td>0.0</td>\n",
       "      <td>0.0</td>\n",
       "      <td>0.0</td>\n",
       "      <td>0.0</td>\n",
       "      <td>...</td>\n",
       "      <td>0.0</td>\n",
       "      <td>0.0</td>\n",
       "      <td>0.0</td>\n",
       "      <td>0.0</td>\n",
       "      <td>0.0</td>\n",
       "      <td>3.5</td>\n",
       "      <td>0.0</td>\n",
       "      <td>0.0</td>\n",
       "      <td>0.0</td>\n",
       "      <td>0.0</td>\n",
       "    </tr>\n",
       "    <tr>\n",
       "      <th>*batteries not included</th>\n",
       "      <td>0.0</td>\n",
       "      <td>5.0</td>\n",
       "      <td>0.0</td>\n",
       "      <td>0.0</td>\n",
       "      <td>0.0</td>\n",
       "      <td>0.0</td>\n",
       "      <td>0.0</td>\n",
       "      <td>0.0</td>\n",
       "      <td>0.0</td>\n",
       "      <td>0.0</td>\n",
       "      <td>...</td>\n",
       "      <td>0.0</td>\n",
       "      <td>0.0</td>\n",
       "      <td>0.0</td>\n",
       "      <td>0.0</td>\n",
       "      <td>0.0</td>\n",
       "      <td>0.0</td>\n",
       "      <td>0.0</td>\n",
       "      <td>0.0</td>\n",
       "      <td>0.0</td>\n",
       "      <td>0.0</td>\n",
       "    </tr>\n",
       "    <tr>\n",
       "      <th>...</th>\n",
       "      <td>...</td>\n",
       "      <td>...</td>\n",
       "      <td>...</td>\n",
       "      <td>...</td>\n",
       "      <td>...</td>\n",
       "      <td>...</td>\n",
       "      <td>...</td>\n",
       "      <td>...</td>\n",
       "      <td>...</td>\n",
       "      <td>...</td>\n",
       "      <td>...</td>\n",
       "      <td>...</td>\n",
       "      <td>...</td>\n",
       "      <td>...</td>\n",
       "      <td>...</td>\n",
       "      <td>...</td>\n",
       "      <td>...</td>\n",
       "      <td>...</td>\n",
       "      <td>...</td>\n",
       "      <td>...</td>\n",
       "      <td>...</td>\n",
       "    </tr>\n",
       "    <tr>\n",
       "      <th>[REC]</th>\n",
       "      <td>0.0</td>\n",
       "      <td>0.0</td>\n",
       "      <td>0.0</td>\n",
       "      <td>0.0</td>\n",
       "      <td>0.0</td>\n",
       "      <td>0.0</td>\n",
       "      <td>0.0</td>\n",
       "      <td>0.0</td>\n",
       "      <td>0.0</td>\n",
       "      <td>0.0</td>\n",
       "      <td>...</td>\n",
       "      <td>0.0</td>\n",
       "      <td>0.0</td>\n",
       "      <td>0.0</td>\n",
       "      <td>0.0</td>\n",
       "      <td>0.0</td>\n",
       "      <td>0.0</td>\n",
       "      <td>0.0</td>\n",
       "      <td>0.0</td>\n",
       "      <td>0.0</td>\n",
       "      <td>0.0</td>\n",
       "    </tr>\n",
       "    <tr>\n",
       "      <th>eXistenZ</th>\n",
       "      <td>0.0</td>\n",
       "      <td>5.0</td>\n",
       "      <td>0.0</td>\n",
       "      <td>3.0</td>\n",
       "      <td>0.0</td>\n",
       "      <td>0.0</td>\n",
       "      <td>0.0</td>\n",
       "      <td>0.0</td>\n",
       "      <td>0.0</td>\n",
       "      <td>0.0</td>\n",
       "      <td>...</td>\n",
       "      <td>0.0</td>\n",
       "      <td>0.0</td>\n",
       "      <td>0.0</td>\n",
       "      <td>0.0</td>\n",
       "      <td>0.0</td>\n",
       "      <td>0.0</td>\n",
       "      <td>0.0</td>\n",
       "      <td>0.0</td>\n",
       "      <td>0.0</td>\n",
       "      <td>0.0</td>\n",
       "    </tr>\n",
       "    <tr>\n",
       "      <th>xXx</th>\n",
       "      <td>0.0</td>\n",
       "      <td>0.0</td>\n",
       "      <td>0.0</td>\n",
       "      <td>0.0</td>\n",
       "      <td>0.0</td>\n",
       "      <td>0.0</td>\n",
       "      <td>0.0</td>\n",
       "      <td>0.0</td>\n",
       "      <td>0.0</td>\n",
       "      <td>0.0</td>\n",
       "      <td>...</td>\n",
       "      <td>0.0</td>\n",
       "      <td>0.0</td>\n",
       "      <td>0.0</td>\n",
       "      <td>0.0</td>\n",
       "      <td>0.0</td>\n",
       "      <td>0.0</td>\n",
       "      <td>0.0</td>\n",
       "      <td>1.0</td>\n",
       "      <td>0.0</td>\n",
       "      <td>0.0</td>\n",
       "    </tr>\n",
       "    <tr>\n",
       "      <th>xXx: State of the Union</th>\n",
       "      <td>0.0</td>\n",
       "      <td>0.0</td>\n",
       "      <td>0.0</td>\n",
       "      <td>0.0</td>\n",
       "      <td>0.0</td>\n",
       "      <td>0.0</td>\n",
       "      <td>0.0</td>\n",
       "      <td>0.0</td>\n",
       "      <td>0.0</td>\n",
       "      <td>0.0</td>\n",
       "      <td>...</td>\n",
       "      <td>0.0</td>\n",
       "      <td>0.0</td>\n",
       "      <td>0.0</td>\n",
       "      <td>0.0</td>\n",
       "      <td>0.0</td>\n",
       "      <td>0.0</td>\n",
       "      <td>0.0</td>\n",
       "      <td>0.0</td>\n",
       "      <td>0.0</td>\n",
       "      <td>0.0</td>\n",
       "    </tr>\n",
       "    <tr>\n",
       "      <th>¡Three Amigos!</th>\n",
       "      <td>2.0</td>\n",
       "      <td>0.0</td>\n",
       "      <td>0.0</td>\n",
       "      <td>0.0</td>\n",
       "      <td>0.0</td>\n",
       "      <td>0.0</td>\n",
       "      <td>3.0</td>\n",
       "      <td>0.0</td>\n",
       "      <td>0.0</td>\n",
       "      <td>0.0</td>\n",
       "      <td>...</td>\n",
       "      <td>0.0</td>\n",
       "      <td>0.0</td>\n",
       "      <td>0.0</td>\n",
       "      <td>0.0</td>\n",
       "      <td>0.0</td>\n",
       "      <td>0.0</td>\n",
       "      <td>0.0</td>\n",
       "      <td>0.0</td>\n",
       "      <td>0.0</td>\n",
       "      <td>0.0</td>\n",
       "    </tr>\n",
       "  </tbody>\n",
       "</table>\n",
       "<p>6106 rows × 26599 columns</p>\n",
       "</div>"
      ],
      "text/plain": [
       "userId                   7       11      14      24      31      53      \\\n",
       "title                                                                     \n",
       "'Til There Was You          0.0     0.0     0.0     0.0     0.0     0.0   \n",
       "'burbs, The                 0.0     0.0     0.0     0.0     0.0     0.0   \n",
       "'night Mother               0.0     0.0     0.0     0.0     0.0     0.0   \n",
       "(500) Days of Summer        0.0     0.0     0.0     0.0     0.0     0.0   \n",
       "*batteries not included     0.0     5.0     0.0     0.0     0.0     0.0   \n",
       "...                         ...     ...     ...     ...     ...     ...   \n",
       "[REC]                       0.0     0.0     0.0     0.0     0.0     0.0   \n",
       "eXistenZ                    0.0     5.0     0.0     3.0     0.0     0.0   \n",
       "xXx                         0.0     0.0     0.0     0.0     0.0     0.0   \n",
       "xXx: State of the Union     0.0     0.0     0.0     0.0     0.0     0.0   \n",
       "¡Three Amigos!              2.0     0.0     0.0     0.0     0.0     0.0   \n",
       "\n",
       "userId                   54      58      69      82      ...  138456  138457  \\\n",
       "title                                                    ...                   \n",
       "'Til There Was You          0.0     0.0     0.0     0.0  ...     0.0     0.0   \n",
       "'burbs, The                 3.0     0.0     0.0     0.0  ...     3.0     3.0   \n",
       "'night Mother               0.0     0.0     0.0     0.0  ...     0.0     0.0   \n",
       "(500) Days of Summer        0.0     0.0     0.0     0.0  ...     0.0     0.0   \n",
       "*batteries not included     0.0     0.0     0.0     0.0  ...     0.0     0.0   \n",
       "...                         ...     ...     ...     ...  ...     ...     ...   \n",
       "[REC]                       0.0     0.0     0.0     0.0  ...     0.0     0.0   \n",
       "eXistenZ                    0.0     0.0     0.0     0.0  ...     0.0     0.0   \n",
       "xXx                         0.0     0.0     0.0     0.0  ...     0.0     0.0   \n",
       "xXx: State of the Union     0.0     0.0     0.0     0.0  ...     0.0     0.0   \n",
       "¡Three Amigos!              3.0     0.0     0.0     0.0  ...     0.0     0.0   \n",
       "\n",
       "userId                   138459  138464  138467  138472  138474  138477  \\\n",
       "title                                                                     \n",
       "'Til There Was You          0.0     0.0     0.0     0.0     0.0     0.0   \n",
       "'burbs, The                 0.0     0.0     0.0     0.0     4.0     0.0   \n",
       "'night Mother               0.0     0.0     0.0     0.0     0.0     0.0   \n",
       "(500) Days of Summer        0.0     0.0     0.0     3.5     0.0     0.0   \n",
       "*batteries not included     0.0     0.0     0.0     0.0     0.0     0.0   \n",
       "...                         ...     ...     ...     ...     ...     ...   \n",
       "[REC]                       0.0     0.0     0.0     0.0     0.0     0.0   \n",
       "eXistenZ                    0.0     0.0     0.0     0.0     0.0     0.0   \n",
       "xXx                         0.0     0.0     0.0     0.0     0.0     1.0   \n",
       "xXx: State of the Union     0.0     0.0     0.0     0.0     0.0     0.0   \n",
       "¡Three Amigos!              0.0     0.0     0.0     0.0     0.0     0.0   \n",
       "\n",
       "userId                   138483  138493  \n",
       "title                                    \n",
       "'Til There Was You          0.0     0.0  \n",
       "'burbs, The                 0.0     0.0  \n",
       "'night Mother               0.0     0.0  \n",
       "(500) Days of Summer        0.0     0.0  \n",
       "*batteries not included     0.0     0.0  \n",
       "...                         ...     ...  \n",
       "[REC]                       0.0     0.0  \n",
       "eXistenZ                    0.0     0.0  \n",
       "xXx                         0.0     0.0  \n",
       "xXx: State of the Union     0.0     0.0  \n",
       "¡Three Amigos!              0.0     0.0  \n",
       "\n",
       "[6106 rows x 26599 columns]"
      ]
     },
     "execution_count": 35,
     "metadata": {},
     "output_type": "execute_result"
    }
   ],
   "source": [
    "movie_pivot"
   ]
  },
  {
   "cell_type": "code",
   "execution_count": 36,
   "metadata": {
    "executionInfo": {
     "elapsed": 366,
     "status": "ok",
     "timestamp": 1714672793937,
     "user": {
      "displayName": "Charitha Darapaneni",
      "userId": "11412777195678425930"
     },
     "user_tz": 300
    },
    "id": "fcm8BprvdN3y"
   },
   "outputs": [],
   "source": [
    "from scipy.sparse import csr_matrix"
   ]
  },
  {
   "cell_type": "code",
   "execution_count": 37,
   "metadata": {
    "executionInfo": {
     "elapsed": 4932,
     "status": "ok",
     "timestamp": 1714672822262,
     "user": {
      "displayName": "Charitha Darapaneni",
      "userId": "11412777195678425930"
     },
     "user_tz": 300
    },
    "id": "rm4CNmXKdTPz"
   },
   "outputs": [],
   "source": [
    "movie_sparse = csr_matrix(movie_pivot)"
   ]
  },
  {
   "cell_type": "code",
   "execution_count": 38,
   "metadata": {
    "colab": {
     "base_uri": "https://localhost:8080/"
    },
    "executionInfo": {
     "elapsed": 166,
     "status": "ok",
     "timestamp": 1714672827435,
     "user": {
      "displayName": "Charitha Darapaneni",
      "userId": "11412777195678425930"
     },
     "user_tz": 300
    },
    "id": "Vm6s4sn7duYn",
    "outputId": "f2ac62b1-dc72-43c4-e621-791be87397be"
   },
   "outputs": [
    {
     "data": {
      "text/plain": [
       "<6106x26599 sparse matrix of type '<class 'numpy.float64'>'\n",
       "\twith 11821205 stored elements in Compressed Sparse Row format>"
      ]
     },
     "execution_count": 38,
     "metadata": {},
     "output_type": "execute_result"
    }
   ],
   "source": [
    "movie_sparse"
   ]
  },
  {
   "cell_type": "code",
   "execution_count": 39,
   "metadata": {
    "executionInfo": {
     "elapsed": 150,
     "status": "ok",
     "timestamp": 1714672884246,
     "user": {
      "displayName": "Charitha Darapaneni",
      "userId": "11412777195678425930"
     },
     "user_tz": 300
    },
    "id": "lYqr5KQ4dxnV"
   },
   "outputs": [],
   "source": [
    "from sklearn.neighbors import NearestNeighbors\n",
    "model = NearestNeighbors(algorithm='brute')"
   ]
  },
  {
   "cell_type": "code",
   "execution_count": 40,
   "metadata": {
    "colab": {
     "base_uri": "https://localhost:8080/",
     "height": 74
    },
    "executionInfo": {
     "elapsed": 164,
     "status": "ok",
     "timestamp": 1714672901848,
     "user": {
      "displayName": "Charitha Darapaneni",
      "userId": "11412777195678425930"
     },
     "user_tz": 300
    },
    "id": "gEAKSHOLd-mF",
    "outputId": "8fc71e13-c7d9-4df7-f31a-6d0f789ff420"
   },
   "outputs": [
    {
     "data": {
      "text/html": [
       "<style>#sk-container-id-1 {\n",
       "  /* Definition of color scheme common for light and dark mode */\n",
       "  --sklearn-color-text: black;\n",
       "  --sklearn-color-line: gray;\n",
       "  /* Definition of color scheme for unfitted estimators */\n",
       "  --sklearn-color-unfitted-level-0: #fff5e6;\n",
       "  --sklearn-color-unfitted-level-1: #f6e4d2;\n",
       "  --sklearn-color-unfitted-level-2: #ffe0b3;\n",
       "  --sklearn-color-unfitted-level-3: chocolate;\n",
       "  /* Definition of color scheme for fitted estimators */\n",
       "  --sklearn-color-fitted-level-0: #f0f8ff;\n",
       "  --sklearn-color-fitted-level-1: #d4ebff;\n",
       "  --sklearn-color-fitted-level-2: #b3dbfd;\n",
       "  --sklearn-color-fitted-level-3: cornflowerblue;\n",
       "\n",
       "  /* Specific color for light theme */\n",
       "  --sklearn-color-text-on-default-background: var(--sg-text-color, var(--theme-code-foreground, var(--jp-content-font-color1, black)));\n",
       "  --sklearn-color-background: var(--sg-background-color, var(--theme-background, var(--jp-layout-color0, white)));\n",
       "  --sklearn-color-border-box: var(--sg-text-color, var(--theme-code-foreground, var(--jp-content-font-color1, black)));\n",
       "  --sklearn-color-icon: #696969;\n",
       "\n",
       "  @media (prefers-color-scheme: dark) {\n",
       "    /* Redefinition of color scheme for dark theme */\n",
       "    --sklearn-color-text-on-default-background: var(--sg-text-color, var(--theme-code-foreground, var(--jp-content-font-color1, white)));\n",
       "    --sklearn-color-background: var(--sg-background-color, var(--theme-background, var(--jp-layout-color0, #111)));\n",
       "    --sklearn-color-border-box: var(--sg-text-color, var(--theme-code-foreground, var(--jp-content-font-color1, white)));\n",
       "    --sklearn-color-icon: #878787;\n",
       "  }\n",
       "}\n",
       "\n",
       "#sk-container-id-1 {\n",
       "  color: var(--sklearn-color-text);\n",
       "}\n",
       "\n",
       "#sk-container-id-1 pre {\n",
       "  padding: 0;\n",
       "}\n",
       "\n",
       "#sk-container-id-1 input.sk-hidden--visually {\n",
       "  border: 0;\n",
       "  clip: rect(1px 1px 1px 1px);\n",
       "  clip: rect(1px, 1px, 1px, 1px);\n",
       "  height: 1px;\n",
       "  margin: -1px;\n",
       "  overflow: hidden;\n",
       "  padding: 0;\n",
       "  position: absolute;\n",
       "  width: 1px;\n",
       "}\n",
       "\n",
       "#sk-container-id-1 div.sk-dashed-wrapped {\n",
       "  border: 1px dashed var(--sklearn-color-line);\n",
       "  margin: 0 0.4em 0.5em 0.4em;\n",
       "  box-sizing: border-box;\n",
       "  padding-bottom: 0.4em;\n",
       "  background-color: var(--sklearn-color-background);\n",
       "}\n",
       "\n",
       "#sk-container-id-1 div.sk-container {\n",
       "  /* jupyter's `normalize.less` sets `[hidden] { display: none; }`\n",
       "     but bootstrap.min.css set `[hidden] { display: none !important; }`\n",
       "     so we also need the `!important` here to be able to override the\n",
       "     default hidden behavior on the sphinx rendered scikit-learn.org.\n",
       "     See: https://github.com/scikit-learn/scikit-learn/issues/21755 */\n",
       "  display: inline-block !important;\n",
       "  position: relative;\n",
       "}\n",
       "\n",
       "#sk-container-id-1 div.sk-text-repr-fallback {\n",
       "  display: none;\n",
       "}\n",
       "\n",
       "div.sk-parallel-item,\n",
       "div.sk-serial,\n",
       "div.sk-item {\n",
       "  /* draw centered vertical line to link estimators */\n",
       "  background-image: linear-gradient(var(--sklearn-color-text-on-default-background), var(--sklearn-color-text-on-default-background));\n",
       "  background-size: 2px 100%;\n",
       "  background-repeat: no-repeat;\n",
       "  background-position: center center;\n",
       "}\n",
       "\n",
       "/* Parallel-specific style estimator block */\n",
       "\n",
       "#sk-container-id-1 div.sk-parallel-item::after {\n",
       "  content: \"\";\n",
       "  width: 100%;\n",
       "  border-bottom: 2px solid var(--sklearn-color-text-on-default-background);\n",
       "  flex-grow: 1;\n",
       "}\n",
       "\n",
       "#sk-container-id-1 div.sk-parallel {\n",
       "  display: flex;\n",
       "  align-items: stretch;\n",
       "  justify-content: center;\n",
       "  background-color: var(--sklearn-color-background);\n",
       "  position: relative;\n",
       "}\n",
       "\n",
       "#sk-container-id-1 div.sk-parallel-item {\n",
       "  display: flex;\n",
       "  flex-direction: column;\n",
       "}\n",
       "\n",
       "#sk-container-id-1 div.sk-parallel-item:first-child::after {\n",
       "  align-self: flex-end;\n",
       "  width: 50%;\n",
       "}\n",
       "\n",
       "#sk-container-id-1 div.sk-parallel-item:last-child::after {\n",
       "  align-self: flex-start;\n",
       "  width: 50%;\n",
       "}\n",
       "\n",
       "#sk-container-id-1 div.sk-parallel-item:only-child::after {\n",
       "  width: 0;\n",
       "}\n",
       "\n",
       "/* Serial-specific style estimator block */\n",
       "\n",
       "#sk-container-id-1 div.sk-serial {\n",
       "  display: flex;\n",
       "  flex-direction: column;\n",
       "  align-items: center;\n",
       "  background-color: var(--sklearn-color-background);\n",
       "  padding-right: 1em;\n",
       "  padding-left: 1em;\n",
       "}\n",
       "\n",
       "\n",
       "/* Toggleable style: style used for estimator/Pipeline/ColumnTransformer box that is\n",
       "clickable and can be expanded/collapsed.\n",
       "- Pipeline and ColumnTransformer use this feature and define the default style\n",
       "- Estimators will overwrite some part of the style using the `sk-estimator` class\n",
       "*/\n",
       "\n",
       "/* Pipeline and ColumnTransformer style (default) */\n",
       "\n",
       "#sk-container-id-1 div.sk-toggleable {\n",
       "  /* Default theme specific background. It is overwritten whether we have a\n",
       "  specific estimator or a Pipeline/ColumnTransformer */\n",
       "  background-color: var(--sklearn-color-background);\n",
       "}\n",
       "\n",
       "/* Toggleable label */\n",
       "#sk-container-id-1 label.sk-toggleable__label {\n",
       "  cursor: pointer;\n",
       "  display: block;\n",
       "  width: 100%;\n",
       "  margin-bottom: 0;\n",
       "  padding: 0.5em;\n",
       "  box-sizing: border-box;\n",
       "  text-align: center;\n",
       "}\n",
       "\n",
       "#sk-container-id-1 label.sk-toggleable__label-arrow:before {\n",
       "  /* Arrow on the left of the label */\n",
       "  content: \"▸\";\n",
       "  float: left;\n",
       "  margin-right: 0.25em;\n",
       "  color: var(--sklearn-color-icon);\n",
       "}\n",
       "\n",
       "#sk-container-id-1 label.sk-toggleable__label-arrow:hover:before {\n",
       "  color: var(--sklearn-color-text);\n",
       "}\n",
       "\n",
       "/* Toggleable content - dropdown */\n",
       "\n",
       "#sk-container-id-1 div.sk-toggleable__content {\n",
       "  max-height: 0;\n",
       "  max-width: 0;\n",
       "  overflow: hidden;\n",
       "  text-align: left;\n",
       "  /* unfitted */\n",
       "  background-color: var(--sklearn-color-unfitted-level-0);\n",
       "}\n",
       "\n",
       "#sk-container-id-1 div.sk-toggleable__content.fitted {\n",
       "  /* fitted */\n",
       "  background-color: var(--sklearn-color-fitted-level-0);\n",
       "}\n",
       "\n",
       "#sk-container-id-1 div.sk-toggleable__content pre {\n",
       "  margin: 0.2em;\n",
       "  border-radius: 0.25em;\n",
       "  color: var(--sklearn-color-text);\n",
       "  /* unfitted */\n",
       "  background-color: var(--sklearn-color-unfitted-level-0);\n",
       "}\n",
       "\n",
       "#sk-container-id-1 div.sk-toggleable__content.fitted pre {\n",
       "  /* unfitted */\n",
       "  background-color: var(--sklearn-color-fitted-level-0);\n",
       "}\n",
       "\n",
       "#sk-container-id-1 input.sk-toggleable__control:checked~div.sk-toggleable__content {\n",
       "  /* Expand drop-down */\n",
       "  max-height: 200px;\n",
       "  max-width: 100%;\n",
       "  overflow: auto;\n",
       "}\n",
       "\n",
       "#sk-container-id-1 input.sk-toggleable__control:checked~label.sk-toggleable__label-arrow:before {\n",
       "  content: \"▾\";\n",
       "}\n",
       "\n",
       "/* Pipeline/ColumnTransformer-specific style */\n",
       "\n",
       "#sk-container-id-1 div.sk-label input.sk-toggleable__control:checked~label.sk-toggleable__label {\n",
       "  color: var(--sklearn-color-text);\n",
       "  background-color: var(--sklearn-color-unfitted-level-2);\n",
       "}\n",
       "\n",
       "#sk-container-id-1 div.sk-label.fitted input.sk-toggleable__control:checked~label.sk-toggleable__label {\n",
       "  background-color: var(--sklearn-color-fitted-level-2);\n",
       "}\n",
       "\n",
       "/* Estimator-specific style */\n",
       "\n",
       "/* Colorize estimator box */\n",
       "#sk-container-id-1 div.sk-estimator input.sk-toggleable__control:checked~label.sk-toggleable__label {\n",
       "  /* unfitted */\n",
       "  background-color: var(--sklearn-color-unfitted-level-2);\n",
       "}\n",
       "\n",
       "#sk-container-id-1 div.sk-estimator.fitted input.sk-toggleable__control:checked~label.sk-toggleable__label {\n",
       "  /* fitted */\n",
       "  background-color: var(--sklearn-color-fitted-level-2);\n",
       "}\n",
       "\n",
       "#sk-container-id-1 div.sk-label label.sk-toggleable__label,\n",
       "#sk-container-id-1 div.sk-label label {\n",
       "  /* The background is the default theme color */\n",
       "  color: var(--sklearn-color-text-on-default-background);\n",
       "}\n",
       "\n",
       "/* On hover, darken the color of the background */\n",
       "#sk-container-id-1 div.sk-label:hover label.sk-toggleable__label {\n",
       "  color: var(--sklearn-color-text);\n",
       "  background-color: var(--sklearn-color-unfitted-level-2);\n",
       "}\n",
       "\n",
       "/* Label box, darken color on hover, fitted */\n",
       "#sk-container-id-1 div.sk-label.fitted:hover label.sk-toggleable__label.fitted {\n",
       "  color: var(--sklearn-color-text);\n",
       "  background-color: var(--sklearn-color-fitted-level-2);\n",
       "}\n",
       "\n",
       "/* Estimator label */\n",
       "\n",
       "#sk-container-id-1 div.sk-label label {\n",
       "  font-family: monospace;\n",
       "  font-weight: bold;\n",
       "  display: inline-block;\n",
       "  line-height: 1.2em;\n",
       "}\n",
       "\n",
       "#sk-container-id-1 div.sk-label-container {\n",
       "  text-align: center;\n",
       "}\n",
       "\n",
       "/* Estimator-specific */\n",
       "#sk-container-id-1 div.sk-estimator {\n",
       "  font-family: monospace;\n",
       "  border: 1px dotted var(--sklearn-color-border-box);\n",
       "  border-radius: 0.25em;\n",
       "  box-sizing: border-box;\n",
       "  margin-bottom: 0.5em;\n",
       "  /* unfitted */\n",
       "  background-color: var(--sklearn-color-unfitted-level-0);\n",
       "}\n",
       "\n",
       "#sk-container-id-1 div.sk-estimator.fitted {\n",
       "  /* fitted */\n",
       "  background-color: var(--sklearn-color-fitted-level-0);\n",
       "}\n",
       "\n",
       "/* on hover */\n",
       "#sk-container-id-1 div.sk-estimator:hover {\n",
       "  /* unfitted */\n",
       "  background-color: var(--sklearn-color-unfitted-level-2);\n",
       "}\n",
       "\n",
       "#sk-container-id-1 div.sk-estimator.fitted:hover {\n",
       "  /* fitted */\n",
       "  background-color: var(--sklearn-color-fitted-level-2);\n",
       "}\n",
       "\n",
       "/* Specification for estimator info (e.g. \"i\" and \"?\") */\n",
       "\n",
       "/* Common style for \"i\" and \"?\" */\n",
       "\n",
       ".sk-estimator-doc-link,\n",
       "a:link.sk-estimator-doc-link,\n",
       "a:visited.sk-estimator-doc-link {\n",
       "  float: right;\n",
       "  font-size: smaller;\n",
       "  line-height: 1em;\n",
       "  font-family: monospace;\n",
       "  background-color: var(--sklearn-color-background);\n",
       "  border-radius: 1em;\n",
       "  height: 1em;\n",
       "  width: 1em;\n",
       "  text-decoration: none !important;\n",
       "  margin-left: 1ex;\n",
       "  /* unfitted */\n",
       "  border: var(--sklearn-color-unfitted-level-1) 1pt solid;\n",
       "  color: var(--sklearn-color-unfitted-level-1);\n",
       "}\n",
       "\n",
       ".sk-estimator-doc-link.fitted,\n",
       "a:link.sk-estimator-doc-link.fitted,\n",
       "a:visited.sk-estimator-doc-link.fitted {\n",
       "  /* fitted */\n",
       "  border: var(--sklearn-color-fitted-level-1) 1pt solid;\n",
       "  color: var(--sklearn-color-fitted-level-1);\n",
       "}\n",
       "\n",
       "/* On hover */\n",
       "div.sk-estimator:hover .sk-estimator-doc-link:hover,\n",
       ".sk-estimator-doc-link:hover,\n",
       "div.sk-label-container:hover .sk-estimator-doc-link:hover,\n",
       ".sk-estimator-doc-link:hover {\n",
       "  /* unfitted */\n",
       "  background-color: var(--sklearn-color-unfitted-level-3);\n",
       "  color: var(--sklearn-color-background);\n",
       "  text-decoration: none;\n",
       "}\n",
       "\n",
       "div.sk-estimator.fitted:hover .sk-estimator-doc-link.fitted:hover,\n",
       ".sk-estimator-doc-link.fitted:hover,\n",
       "div.sk-label-container:hover .sk-estimator-doc-link.fitted:hover,\n",
       ".sk-estimator-doc-link.fitted:hover {\n",
       "  /* fitted */\n",
       "  background-color: var(--sklearn-color-fitted-level-3);\n",
       "  color: var(--sklearn-color-background);\n",
       "  text-decoration: none;\n",
       "}\n",
       "\n",
       "/* Span, style for the box shown on hovering the info icon */\n",
       ".sk-estimator-doc-link span {\n",
       "  display: none;\n",
       "  z-index: 9999;\n",
       "  position: relative;\n",
       "  font-weight: normal;\n",
       "  right: .2ex;\n",
       "  padding: .5ex;\n",
       "  margin: .5ex;\n",
       "  width: min-content;\n",
       "  min-width: 20ex;\n",
       "  max-width: 50ex;\n",
       "  color: var(--sklearn-color-text);\n",
       "  box-shadow: 2pt 2pt 4pt #999;\n",
       "  /* unfitted */\n",
       "  background: var(--sklearn-color-unfitted-level-0);\n",
       "  border: .5pt solid var(--sklearn-color-unfitted-level-3);\n",
       "}\n",
       "\n",
       ".sk-estimator-doc-link.fitted span {\n",
       "  /* fitted */\n",
       "  background: var(--sklearn-color-fitted-level-0);\n",
       "  border: var(--sklearn-color-fitted-level-3);\n",
       "}\n",
       "\n",
       ".sk-estimator-doc-link:hover span {\n",
       "  display: block;\n",
       "}\n",
       "\n",
       "/* \"?\"-specific style due to the `<a>` HTML tag */\n",
       "\n",
       "#sk-container-id-1 a.estimator_doc_link {\n",
       "  float: right;\n",
       "  font-size: 1rem;\n",
       "  line-height: 1em;\n",
       "  font-family: monospace;\n",
       "  background-color: var(--sklearn-color-background);\n",
       "  border-radius: 1rem;\n",
       "  height: 1rem;\n",
       "  width: 1rem;\n",
       "  text-decoration: none;\n",
       "  /* unfitted */\n",
       "  color: var(--sklearn-color-unfitted-level-1);\n",
       "  border: var(--sklearn-color-unfitted-level-1) 1pt solid;\n",
       "}\n",
       "\n",
       "#sk-container-id-1 a.estimator_doc_link.fitted {\n",
       "  /* fitted */\n",
       "  border: var(--sklearn-color-fitted-level-1) 1pt solid;\n",
       "  color: var(--sklearn-color-fitted-level-1);\n",
       "}\n",
       "\n",
       "/* On hover */\n",
       "#sk-container-id-1 a.estimator_doc_link:hover {\n",
       "  /* unfitted */\n",
       "  background-color: var(--sklearn-color-unfitted-level-3);\n",
       "  color: var(--sklearn-color-background);\n",
       "  text-decoration: none;\n",
       "}\n",
       "\n",
       "#sk-container-id-1 a.estimator_doc_link.fitted:hover {\n",
       "  /* fitted */\n",
       "  background-color: var(--sklearn-color-fitted-level-3);\n",
       "}\n",
       "</style><div id=\"sk-container-id-1\" class=\"sk-top-container\"><div class=\"sk-text-repr-fallback\"><pre>NearestNeighbors(algorithm=&#x27;brute&#x27;)</pre><b>In a Jupyter environment, please rerun this cell to show the HTML representation or trust the notebook. <br />On GitHub, the HTML representation is unable to render, please try loading this page with nbviewer.org.</b></div><div class=\"sk-container\" hidden><div class=\"sk-item\"><div class=\"sk-estimator fitted sk-toggleable\"><input class=\"sk-toggleable__control sk-hidden--visually\" id=\"sk-estimator-id-1\" type=\"checkbox\" checked><label for=\"sk-estimator-id-1\" class=\"sk-toggleable__label fitted sk-toggleable__label-arrow fitted\">&nbsp;&nbsp;NearestNeighbors<a class=\"sk-estimator-doc-link fitted\" rel=\"noreferrer\" target=\"_blank\" href=\"https://scikit-learn.org/1.4/modules/generated/sklearn.neighbors.NearestNeighbors.html\">?<span>Documentation for NearestNeighbors</span></a><span class=\"sk-estimator-doc-link fitted\">i<span>Fitted</span></span></label><div class=\"sk-toggleable__content fitted\"><pre>NearestNeighbors(algorithm=&#x27;brute&#x27;)</pre></div> </div></div></div></div>"
      ],
      "text/plain": [
       "NearestNeighbors(algorithm='brute')"
      ]
     },
     "execution_count": 40,
     "metadata": {},
     "output_type": "execute_result"
    }
   ],
   "source": [
    "model.fit(movie_sparse)"
   ]
  },
  {
   "cell_type": "code",
   "execution_count": 41,
   "metadata": {},
   "outputs": [
    {
     "name": "stdout",
     "output_type": "stream",
     "text": [
      "Requirement already satisfied: scikit-learn in c:\\users\\charitha\\anaconda3\\lib\\site-packages (1.4.2)Note: you may need to restart the kernel to use updated packages.\n",
      "\n",
      "Requirement already satisfied: threadpoolctl in c:\\users\\charitha\\anaconda3\\lib\\site-packages (3.5.0)\n",
      "Requirement already satisfied: scipy>=1.6.0 in c:\\users\\charitha\\anaconda3\\lib\\site-packages (from scikit-learn) (1.10.1)\n",
      "Requirement already satisfied: numpy>=1.19.5 in c:\\users\\charitha\\anaconda3\\lib\\site-packages (from scikit-learn) (1.23.5)\n",
      "Requirement already satisfied: joblib>=1.2.0 in c:\\users\\charitha\\anaconda3\\lib\\site-packages (from scikit-learn) (1.4.2)\n"
     ]
    }
   ],
   "source": [
    "pip install --user scikit-learn threadpoolctl"
   ]
  },
  {
   "cell_type": "code",
   "execution_count": 42,
   "metadata": {
    "executionInfo": {
     "elapsed": 411,
     "status": "ok",
     "timestamp": 1714672998091,
     "user": {
      "displayName": "Charitha Darapaneni",
      "userId": "11412777195678425930"
     },
     "user_tz": 300
    },
    "id": "CD0mteNceC4v"
   },
   "outputs": [],
   "source": [
    "distance, suggestion = model.kneighbors(movie_pivot.iloc[237,:].values.reshape(1,-1), n_neighbors=6)"
   ]
  },
  {
   "cell_type": "code",
   "execution_count": 43,
   "metadata": {
    "colab": {
     "base_uri": "https://localhost:8080/"
    },
    "executionInfo": {
     "elapsed": 472,
     "status": "ok",
     "timestamp": 1714673006736,
     "user": {
      "displayName": "Charitha Darapaneni",
      "userId": "11412777195678425930"
     },
     "user_tz": 300
    },
    "id": "k73gO4u0eaAv",
    "outputId": "9c3c92d0-53f1-450c-adb9-6d8492fd4fcd"
   },
   "outputs": [
    {
     "data": {
      "text/plain": [
       "array([[ 0.        , 81.91153765, 82.23442102, 82.87038072, 83.17301245,\n",
       "        83.30066026]])"
      ]
     },
     "execution_count": 43,
     "metadata": {},
     "output_type": "execute_result"
    }
   ],
   "source": [
    "distance"
   ]
  },
  {
   "cell_type": "code",
   "execution_count": 44,
   "metadata": {
    "colab": {
     "base_uri": "https://localhost:8080/"
    },
    "executionInfo": {
     "elapsed": 306,
     "status": "ok",
     "timestamp": 1714673028034,
     "user": {
      "displayName": "Charitha Darapaneni",
      "userId": "11412777195678425930"
     },
     "user_tz": 300
    },
    "id": "wyxWUZV2ecsU",
    "outputId": "d02957a2-0eab-4d67-bcd2-1787f9451bc9"
   },
   "outputs": [
    {
     "data": {
      "text/plain": [
       "array([[ 237, 2113, 4289, 1546, 4891, 2204]], dtype=int64)"
      ]
     },
     "execution_count": 44,
     "metadata": {},
     "output_type": "execute_result"
    }
   ],
   "source": [
    "suggestion"
   ]
  },
  {
   "cell_type": "code",
   "execution_count": 45,
   "metadata": {
    "colab": {
     "base_uri": "https://localhost:8080/"
    },
    "executionInfo": {
     "elapsed": 176,
     "status": "ok",
     "timestamp": 1714673071027,
     "user": {
      "displayName": "Charitha Darapaneni",
      "userId": "11412777195678425930"
     },
     "user_tz": 300
    },
    "id": "No7UroeIeiXj",
    "outputId": "a2a1aa10-cb13-4719-9cc1-885c12cb7f21"
   },
   "outputs": [
    {
     "name": "stdout",
     "output_type": "stream",
     "text": [
      "Index(['Alpha Dog', 'From Justin to Kelly', 'Pokémon Heroes', 'Disaster Movie',\n",
      "       'Shanghai Surprise', 'Ghoulies II'],\n",
      "      dtype='object', name='title')\n"
     ]
    }
   ],
   "source": [
    "for i in range(len(suggestion)):\n",
    "  print(movie_pivot.index[suggestion[i]])"
   ]
  },
  {
   "cell_type": "code",
   "execution_count": 46,
   "metadata": {
    "executionInfo": {
     "elapsed": 181,
     "status": "ok",
     "timestamp": 1714673117837,
     "user": {
      "displayName": "Charitha Darapaneni",
      "userId": "11412777195678425930"
     },
     "user_tz": 300
    },
    "id": "uJe5Y3GEet6A"
   },
   "outputs": [],
   "source": [
    "movies_name = movie_pivot.index"
   ]
  },
  {
   "cell_type": "code",
   "execution_count": 47,
   "metadata": {
    "colab": {
     "base_uri": "https://localhost:8080/"
    },
    "executionInfo": {
     "elapsed": 12153,
     "status": "ok",
     "timestamp": 1714673475491,
     "user": {
      "displayName": "Charitha Darapaneni",
      "userId": "11412777195678425930"
     },
     "user_tz": 300
    },
    "id": "nlPo4o5we69F",
    "outputId": "67b3f4d4-47c9-4af9-fa65-6eb582948bba"
   },
   "outputs": [
    {
     "name": "stdout",
     "output_type": "stream",
     "text": [
      "['final_rating.pkl', 'model.pkl', 'movies_name.pkl', 'movie_pivot.pkl']\n"
     ]
    }
   ],
   "source": [
    "import pickle\n",
    "import os\n",
    "\n",
    "directory = 'artifacts'\n",
    "if not os.path.exists(directory):\n",
    "  os.makedirs(directory)\n",
    "pickle.dump(model, open('artifacts/model.pkl', 'wb'))\n",
    "pickle.dump(movies_name, open('artifacts/movies_name.pkl', 'wb'))\n",
    "pickle.dump(final_rating, open('artifacts/final_rating.pkl', 'wb'))\n",
    "pickle.dump(movie_pivot, open('artifacts/movie_pivot.pkl', 'wb'))\n",
    "\n",
    "print(os.listdir('artifacts'))"
   ]
  },
  {
   "cell_type": "code",
   "execution_count": 48,
   "metadata": {
    "executionInfo": {
     "elapsed": 201,
     "status": "ok",
     "timestamp": 1714673825640,
     "user": {
      "displayName": "Charitha Darapaneni",
      "userId": "11412777195678425930"
     },
     "user_tz": 300
    },
    "id": "7r-Ynsr4gu9d"
   },
   "outputs": [],
   "source": [
    "def recommend_movie(movie_name):\n",
    "  movie_id = np.where(movie_pivot.index == movie_name)[0][0]\n",
    "  distance, suggestion = model.kneighbors(movie_pivot.iloc[movie_id,:].values.reshape(1,-1), n_neighbors=6)\n",
    "\n",
    "  for i in range(len(suggestion)):\n",
    "    movies = movie_pivot.index[suggestion[i]]\n",
    "    for j in movies:\n",
    "      print(j)\n"
   ]
  },
  {
   "cell_type": "code",
   "execution_count": 49,
   "metadata": {
    "colab": {
     "base_uri": "https://localhost:8080/"
    },
    "executionInfo": {
     "elapsed": 182,
     "status": "ok",
     "timestamp": 1714673869014,
     "user": {
      "displayName": "Charitha Darapaneni",
      "userId": "11412777195678425930"
     },
     "user_tz": 300
    },
    "id": "8MnUoba4hj1e",
    "outputId": "cc487492-b7ee-468f-b71e-317a31e6e4f8"
   },
   "outputs": [
    {
     "name": "stdout",
     "output_type": "stream",
     "text": [
      "10 Things I Hate About You\n",
      "She's All That\n",
      "Never Been Kissed\n",
      "Bring It On\n",
      "Can't Hardly Wait\n",
      "Save the Last Dance\n"
     ]
    }
   ],
   "source": [
    "movie_name = '10 Things I Hate About You'\n",
    "recommend_movie(movie_name)"
   ]
  },
  {
   "cell_type": "code",
   "execution_count": null,
   "metadata": {
    "id": "cdyz742MIMlo"
   },
   "outputs": [],
   "source": []
  }
 ],
 "metadata": {
  "colab": {
   "authorship_tag": "ABX9TyOsc9cnhNoShsRaFlT+NDZY",
   "provenance": []
  },
  "kernelspec": {
   "display_name": "Python 3 (ipykernel)",
   "language": "python",
   "name": "python3"
  },
  "language_info": {
   "codemirror_mode": {
    "name": "ipython",
    "version": 3
   },
   "file_extension": ".py",
   "mimetype": "text/x-python",
   "name": "python",
   "nbconvert_exporter": "python",
   "pygments_lexer": "ipython3",
   "version": "3.10.9"
  }
 },
 "nbformat": 4,
 "nbformat_minor": 1
}
